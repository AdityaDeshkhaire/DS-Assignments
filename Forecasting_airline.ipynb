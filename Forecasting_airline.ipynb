{
 "cells": [
  {
   "cell_type": "code",
   "execution_count": 1,
   "id": "10c48f53",
   "metadata": {},
   "outputs": [
    {
     "ename": "ModuleNotFoundError",
     "evalue": "No module named 'dataprep'",
     "output_type": "error",
     "traceback": [
      "\u001b[1;31m---------------------------------------------------------------------------\u001b[0m",
      "\u001b[1;31mModuleNotFoundError\u001b[0m                       Traceback (most recent call last)",
      "Cell \u001b[1;32mIn[1], line 25\u001b[0m\n\u001b[0;32m     23\u001b[0m \u001b[38;5;28;01mfrom\u001b[39;00m \u001b[38;5;21;01mcollections\u001b[39;00m \u001b[38;5;28;01mimport\u001b[39;00m Counter\n\u001b[0;32m     24\u001b[0m sns\u001b[38;5;241m.\u001b[39mset_style(\u001b[38;5;124m'\u001b[39m\u001b[38;5;124mdarkgrid\u001b[39m\u001b[38;5;124m'\u001b[39m)\n\u001b[1;32m---> 25\u001b[0m \u001b[38;5;28;01mfrom\u001b[39;00m \u001b[38;5;21;01mdataprep\u001b[39;00m\u001b[38;5;21;01m.\u001b[39;00m\u001b[38;5;21;01meda\u001b[39;00m \u001b[38;5;28;01mimport\u001b[39;00m plot, plot_correlation, plot_missing, create_report\n\u001b[0;32m     26\u001b[0m \u001b[38;5;28;01mimport\u001b[39;00m \u001b[38;5;21;01mplotly\u001b[39;00m\u001b[38;5;21;01m.\u001b[39;00m\u001b[38;5;21;01mexpress\u001b[39;00m \u001b[38;5;28;01mas\u001b[39;00m \u001b[38;5;21;01mpx\u001b[39;00m\n\u001b[0;32m     27\u001b[0m \u001b[38;5;28;01mfrom\u001b[39;00m \u001b[38;5;21;01mplotly\u001b[39;00m\u001b[38;5;21;01m.\u001b[39;00m\u001b[38;5;21;01moffline\u001b[39;00m \u001b[38;5;28;01mimport\u001b[39;00m plot \u001b[38;5;28;01mas\u001b[39;00m off\n",
      "\u001b[1;31mModuleNotFoundError\u001b[0m: No module named 'dataprep'"
     ]
    }
   ],
   "source": [
    "# Importing Libraries\n",
    "import numpy as np\n",
    "import pandas as pd\n",
    "from scipy.stats import boxcox\n",
    "from pandas.plotting import lag_plot\n",
    "from statsmodels.tsa.stattools import adfuller\n",
    "from statsmodels.tsa.stattools import acf, pacf\n",
    "from statsmodels.graphics.tsaplots import plot_acf\n",
    "from statsmodels.graphics.tsaplots import plot_pacf\n",
    "from pandas import DataFrame\n",
    "from pandas import Grouper\n",
    "from math import sqrt\n",
    "from statsmodels.tsa.arima.model import ARIMA\n",
    "from sklearn.metrics import mean_squared_error\n",
    "from statsmodels.tsa.seasonal import seasonal_decompose\n",
    "from statsmodels.tsa.holtwinters import SimpleExpSmoothing # SES\n",
    "from statsmodels.tsa.holtwinters import Holt # Holts Exponential Smoothing\n",
    "from statsmodels.tsa.holtwinters import ExponentialSmoothing\n",
    "import matplotlib.pyplot as plt\n",
    "import plotly.graph_objects as go\n",
    "from plotly.subplots import make_subplots\n",
    "import seaborn as sns\n",
    "from collections import Counter\n",
    "sns.set_style('darkgrid')\n",
    "from dataprep.eda import plot, plot_correlation, plot_missing, create_report\n",
    "import plotly.express as px\n",
    "from plotly.offline import plot as off\n",
    "import plotly.figure_factory as ff\n",
    "import plotly.io as pio\n",
    "from sklearn.preprocessing import StandardScaler, LabelEncoder, MinMaxScaler, scale\n",
    "from sklearn.metrics import mean_squared_error\n",
    "from sklearn.model_selection import GridSearchCV, KFold, StratifiedKFold, cross_val_score, \\\n",
    "                                    train_test_split, RandomizedSearchCV\n",
    "import warnings\n",
    "warnings.filterwarnings('ignore')\n",
    "from sklearn.feature_selection import SelectKBest\n",
    "from sklearn.feature_selection import mutual_info_regression"
   ]
  },
  {
   "cell_type": "code",
   "execution_count": null,
   "id": "a72391e9",
   "metadata": {},
   "outputs": [],
   "source": [
    "# Import Dataset\n",
    "df = pd.read_excel('Airlines+Data.xlsx')\n",
    "print('Shape of the data',df.shape)\n",
    "df.head(10)"
   ]
  },
  {
   "cell_type": "markdown",
   "id": "4ce335e3",
   "metadata": {},
   "source": [
    "## Alias    Description\n",
    "+ B        business day frequency\n",
    "+ C        custom business day frequency\n",
    "+ D        calendar day frequency\n",
    "+ W        weekly frequency\n",
    "+ M        month end frequency\n",
    "+ SM       semi-month end frequency (15th and end of month)\n",
    "+ BM       business month end frequency\n",
    "+ CBM      custom business month end frequency\n",
    "+ MS       month start frequency\n",
    "+ SMS      semi-month start frequency (1st and 15th)\n",
    "+ BMS      business month start frequency\n",
    "+ CBMS     custom business month start frequency\n",
    "+ Q        quarter end frequency\n",
    "+ BQ       business quarter end frequency\n",
    "+ QS       quarter start frequency\n",
    "+ BQS      business quarter start frequency\n",
    "+ A, Y     year end frequency\n",
    "+ BA, BY   business year end frequency\n",
    "+ AS, YS   year start frequency\n",
    "+ BAS, BYS business year start frequency\n",
    "+ BH       business hour frequency\n",
    "+ H        hourly frequency\n",
    "+ T, min   minutely frequency\n",
    "+ S        secondly frequency\n",
    "+ L, ms    milliseconds\n",
    "+ U, us    microseconds\n",
    "+ N        nanoseconds"
   ]
  },
  {
   "cell_type": "markdown",
   "id": "88948186",
   "metadata": {},
   "source": [
    "## 3 Data Exploration"
   ]
  },
  {
   "cell_type": "code",
   "execution_count": null,
   "id": "985a1caf",
   "metadata": {},
   "outputs": [],
   "source": [
    "df.isnull().any()"
   ]
  },
  {
   "cell_type": "code",
   "execution_count": null,
   "id": "379ce0c5",
   "metadata": {},
   "outputs": [],
   "source": [
    "df.isnull().sum()"
   ]
  },
  {
   "cell_type": "code",
   "execution_count": null,
   "id": "504c660a",
   "metadata": {},
   "outputs": [],
   "source": [
    "df.Passengers.plot(figsize=(12,4))"
   ]
  },
  {
   "cell_type": "markdown",
   "id": "f0658bdb",
   "metadata": {},
   "source": [
    "- We have no missing data so all the entries are valid for use.\n",
    "\n",
    "- Now we can check the column names to get a better understanding of what features we will be basing our regression on."
   ]
  },
  {
   "cell_type": "code",
   "execution_count": null,
   "id": "607a48a6",
   "metadata": {},
   "outputs": [],
   "source": [
    "df.shape"
   ]
  },
  {
   "cell_type": "code",
   "execution_count": null,
   "id": "07375eb7",
   "metadata": {},
   "outputs": [],
   "source": [
    "#Checking the data types\n",
    "df.dtypes"
   ]
  },
  {
   "cell_type": "code",
   "execution_count": null,
   "id": "15ed4f25",
   "metadata": {},
   "outputs": [],
   "source": [
    "#Unique values for every feature\n",
    "df.nunique()"
   ]
  },
  {
   "cell_type": "code",
   "execution_count": null,
   "id": "6fc70ee8",
   "metadata": {},
   "outputs": [],
   "source": [
    "df.info()"
   ]
  },
  {
   "cell_type": "code",
   "execution_count": null,
   "id": "bd3cc758",
   "metadata": {},
   "outputs": [],
   "source": [
    "df[df.duplicated()].shape"
   ]
  },
  {
   "cell_type": "code",
   "execution_count": null,
   "id": "3fb4a255",
   "metadata": {},
   "outputs": [],
   "source": [
    "df[df.duplicated()]"
   ]
  },
  {
   "cell_type": "code",
   "execution_count": null,
   "id": "cf364a20",
   "metadata": {},
   "outputs": [],
   "source": [
    "df.describe()"
   ]
  },
  {
   "cell_type": "markdown",
   "id": "c5764b36",
   "metadata": {},
   "source": [
    "### Feature Engineering"
   ]
  },
  {
   "cell_type": "markdown",
   "id": "f94aae09",
   "metadata": {},
   "source": [
    "#### Renaming the Month column into Date"
   ]
  },
  {
   "cell_type": "code",
   "execution_count": null,
   "id": "db316f06",
   "metadata": {},
   "outputs": [],
   "source": [
    "df.rename({'Month':'Date'},axis=1, inplace=True)"
   ]
  },
  {
   "cell_type": "markdown",
   "id": "0912ec68",
   "metadata": {},
   "source": [
    "#### Making the Date as DateTime index for the Dataframe"
   ]
  },
  {
   "cell_type": "code",
   "execution_count": null,
   "id": "24680efb",
   "metadata": {},
   "outputs": [],
   "source": [
    "df1 = df.copy()\n",
    "df1.set_index('Date',inplace=True)\n",
    "df1.index.year"
   ]
  },
  {
   "cell_type": "code",
   "execution_count": null,
   "id": "d4538fa9",
   "metadata": {},
   "outputs": [],
   "source": [
    "df1.head()"
   ]
  },
  {
   "cell_type": "markdown",
   "id": "5bec0783",
   "metadata": {},
   "source": [
    "#### Separating Month and Year into Separate Column for Visualization and removing meaningful insight of the data"
   ]
  },
  {
   "cell_type": "code",
   "execution_count": null,
   "id": "796e79e9",
   "metadata": {},
   "outputs": [],
   "source": [
    "df[\"Date\"] = pd.to_datetime(df.Date,format=\"%b-%y\")\n",
    "df[\"month\"] = df.Date.dt.strftime(\"%b\") # month extraction\n",
    "df[\"year\"] = df.Date.dt.strftime(\"%Y\") # year extraction\n",
    "df.head(10)"
   ]
  },
  {
   "cell_type": "markdown",
   "id": "dadc71bc",
   "metadata": {},
   "source": [
    "### Data Visualization"
   ]
  },
  {
   "cell_type": "code",
   "execution_count": null,
   "id": "e1cae5d2",
   "metadata": {},
   "outputs": [],
   "source": [
    "plt.figure(figsize=(20,8))\n",
    "heatmap_y_month = pd.pivot_table(data=df,values=\"Passengers\",index=\"year\",columns=\"month\",aggfunc=\"mean\",fill_value=0)\n",
    "sns.heatmap(heatmap_y_month,annot=True,fmt=\"g\") #fmt is format of the grid values"
   ]
  },
  {
   "cell_type": "markdown",
   "id": "82967650",
   "metadata": {},
   "source": [
    "#### Line plot"
   ]
  },
  {
   "cell_type": "code",
   "execution_count": null,
   "id": "5d12749b",
   "metadata": {},
   "outputs": [],
   "source": [
    "df1['Passengers'].plot(figsize=(20, 8),color='red',marker='o')\n",
    "plt.show()"
   ]
  },
  {
   "cell_type": "markdown",
   "id": "36bef773",
   "metadata": {},
   "source": [
    "##### Observation:^ \n",
    "1. We can see that there is an increasing Trend. So, Trend is not constant.\n",
    "2. Variance is also not constant.\n",
    "\n",
    "Hence the time serise is not stationary."
   ]
  },
  {
   "cell_type": "markdown",
   "id": "ba563175",
   "metadata": {},
   "source": [
    "#### Yearly Passenger Analysis"
   ]
  },
  {
   "cell_type": "code",
   "execution_count": null,
   "id": "d1801f7a",
   "metadata": {},
   "outputs": [],
   "source": [
    "plt.figure(figsize=(12,4))\n",
    "sns.lineplot(x=\"year\",y=\"Passengers\",data=df)\n",
    "import warnings\n",
    "\n",
    "def fxn():\n",
    "    warnings.warn(\"deprecated\", DeprecationWarning)\n",
    "\n",
    "with warnings.catch_warnings():\n",
    "    warnings.simplefilter(\"ignore\")\n",
    "    fxn()"
   ]
  },
  {
   "cell_type": "markdown",
   "id": "2904f63d",
   "metadata": {},
   "source": [
    "#### Box Plot of Each Year by Monthly Intervals"
   ]
  },
  {
   "cell_type": "code",
   "execution_count": null,
   "id": "0b03fe81",
   "metadata": {},
   "outputs": [],
   "source": [
    "# Boxplot for ever\n",
    "plt.figure(figsize=(14,8))\n",
    "plt.subplot(211)\n",
    "sns.boxplot(x=\"month\",y=\"Passengers\",data=df)\n",
    "plt.subplot(212)\n",
    "sns.boxplot(x=\"year\",y=\"Passengers\",data=df)"
   ]
  },
  {
   "cell_type": "markdown",
   "id": "aff5c666",
   "metadata": {},
   "source": [
    "#### Histogram and Density Plots"
   ]
  },
  {
   "cell_type": "code",
   "execution_count": null,
   "id": "fd477aa5",
   "metadata": {},
   "outputs": [],
   "source": [
    "df.Passengers.hist(figsize=(12,6))\n",
    "plt.show()"
   ]
  },
  {
   "cell_type": "code",
   "execution_count": null,
   "id": "f310b6f6",
   "metadata": {},
   "outputs": [],
   "source": [
    "# create a density plot\n",
    "df.Passengers.plot(kind='kde', figsize=(12,6))\n",
    "plt.show()"
   ]
  },
  {
   "cell_type": "markdown",
   "id": "ebf3ffed",
   "metadata": {},
   "source": [
    "#### Lag plot"
   ]
  },
  {
   "cell_type": "code",
   "execution_count": null,
   "id": "c1f1ad81",
   "metadata": {},
   "outputs": [],
   "source": [
    "# create a scatter plot\n",
    "for i in [1, 4, 8, 12, 16, 20, 24, 38, 32, 36, 40]:\n",
    "    #plt.figure(figsize=(12,8))\n",
    "    lag_plot(df.Passengers, lag=i)\n",
    "    plt.show()"
   ]
  },
  {
   "cell_type": "markdown",
   "id": "de78b7b0",
   "metadata": {},
   "source": [
    "### Moving Average"
   ]
  },
  {
   "cell_type": "code",
   "execution_count": null,
   "id": "1be9bea5",
   "metadata": {},
   "outputs": [],
   "source": [
    "plt.figure(figsize=(16,6))\n",
    "df.Passengers.plot(label=\"org\")\n",
    "for i in range(4,13,4):\n",
    "    df[\"Passengers\"].rolling(i).mean().plot(label=str(i))\n",
    "plt.legend(loc='best')"
   ]
  },
  {
   "cell_type": "code",
   "execution_count": null,
   "id": "b27afbe5",
   "metadata": {},
   "outputs": [],
   "source": [
    "plt.figure(figsize=(16,4))\n",
    "df.Passengers.plot(label=\"org\")\n",
    "plt.title(\"Original Series\")\n",
    "for i in range(2,13):\n",
    "    plt.figure(figsize=(16,4))\n",
    "    df[\"Passengers\"].rolling(i).mean().plot(label=str(i))\n",
    "    plt.title(\"Moving Average \"+str(i))\n",
    "    plt.legend(loc='best')\n",
    "    plt.show()"
   ]
  },
  {
   "cell_type": "code",
   "execution_count": null,
   "id": "8bf6646e",
   "metadata": {
    "scrolled": false
   },
   "outputs": [],
   "source": [
    "plt.figure(figsize=(12,4))\n",
    "df.Passengers.plot(label=\"org\")\n",
    "plt.title(\"Original Series\")\n",
    "plt.figure(figsize=(12,4))\n",
    "df[\"Passengers\"].rolling(12).mean().plot(label=str(12))\n",
    "plt.title(\"Moving Average \"+str(12))\n",
    "plt.legend(loc='best')\n",
    "plt.show()"
   ]
  },
  {
   "cell_type": "markdown",
   "id": "129432b9",
   "metadata": {},
   "source": [
    "### Time series decomposition plot "
   ]
  },
  {
   "cell_type": "code",
   "execution_count": null,
   "id": "4e91d0fd",
   "metadata": {},
   "outputs": [],
   "source": [
    "decompose_ts_add = seasonal_decompose(df.Passengers,period=12)\n",
    "with plt.rc_context():\n",
    "    plt.rc(\"figure\", figsize=(14,10))\n",
    "    decompose_ts_add.plot()\n",
    "    plt.show()"
   ]
  },
  {
   "cell_type": "markdown",
   "id": "809d45ab",
   "metadata": {},
   "source": [
    "### ACF plots and PACF plots"
   ]
  },
  {
   "cell_type": "code",
   "execution_count": null,
   "id": "130d5926",
   "metadata": {},
   "outputs": [],
   "source": [
    "import statsmodels.graphics.tsaplots as tsa_plots\n",
    "with plt.rc_context():\n",
    "    plt.rc(\"figure\", figsize=(12,6))\n",
    "    tsa_plots.plot_acf(df.Passengers,lags=95)\n",
    "    plt.show()"
   ]
  },
  {
   "cell_type": "code",
   "execution_count": null,
   "id": "ef1f5ede",
   "metadata": {},
   "outputs": [],
   "source": [
    "import statsmodels.graphics.tsaplots as tsa_plots\n",
    "with plt.rc_context():\n",
    "    plt.rc(\"figure\", figsize=(12,4))\n",
    "    tsa_plots.plot_pacf(df.Passengers,lags=47)\n",
    "    plt.show()"
   ]
  },
  {
   "cell_type": "code",
   "execution_count": null,
   "id": "de052150",
   "metadata": {},
   "outputs": [],
   "source": [
    "import statsmodels.graphics.tsaplots as tsa_plots\n",
    "with plt.rc_context():\n",
    "    plt.rc(\"figure\", figsize=(12,4))\n",
    "    tsa_plots.plot_acf(df.Passengers,lags=95)\n",
    "    tsa_plots.plot_pacf(df.Passengers,lags=47)\n",
    "    plt.show()"
   ]
  },
  {
   "cell_type": "code",
   "execution_count": null,
   "id": "f9e4f070",
   "metadata": {},
   "outputs": [],
   "source": [
    "visual = df1.copy()\n",
    "visual.reset_index(inplace=True)\n",
    "visual['date'] = pd.to_datetime(visual['Date'])\n",
    "visual['year'] = visual['Date'].dt.year\n",
    "visual['month'] = visual['Date'].dt.month\n",
    "visual['week'] = visual['Date'].dt.isocalendar().week\n",
    "visual['quarter'] = visual['Date'].dt.quarter\n",
    "visual['day_of_week'] = visual['Date'].dt.day_name()\n",
    "visual.drop('Date', axis =1 , inplace= True)\n",
    "visual.head(10)"
   ]
  },
  {
   "cell_type": "code",
   "execution_count": null,
   "id": "c6502657",
   "metadata": {},
   "outputs": [],
   "source": [
    "visual.year.unique()"
   ]
  },
  {
   "cell_type": "code",
   "execution_count": null,
   "id": "0538a600",
   "metadata": {},
   "outputs": [],
   "source": [
    "# data \n",
    "df_1995 = visual[visual['year']==1995][['month','Passengers']]\n",
    "df_1995 = df_1995.groupby('month').agg({\"Passengers\" : \"mean\"}).reset_index().rename(columns={'Passengers':'1995'})\n",
    "df_1996 = visual[visual['year']==1996][['month','Passengers']]\n",
    "df_1996 = df_1996.groupby('month').agg({\"Passengers\" : \"mean\"}).reset_index().rename(columns={'Passengers':'1996'})\n",
    "df_1997 = visual[visual['year']==1997][['month','Passengers']]\n",
    "df_1997 = df_1997.groupby('month').agg({\"Passengers\" : \"mean\"}).reset_index().rename(columns={'Passengers':'1997'})\n",
    "df_1998 = visual[visual['year']==1998][['month','Passengers']]\n",
    "df_1998 = df_1998.groupby('month').agg({\"Passengers\" : \"mean\"}).reset_index().rename(columns={'Passengers':'1998'})\n",
    "df_1999 = visual[visual['year']==1999][['month','Passengers']]\n",
    "df_1999 = df_1999.groupby('month').agg({\"Passengers\" : \"mean\"}).reset_index().rename(columns={'Passengers':'1999'})\n",
    "df_2000 = visual[visual['year']==2000][['month','Passengers']]\n",
    "df_2000 = df_2000.groupby('month').agg({\"Passengers\" : \"mean\"}).reset_index().rename(columns={'Passengers':'2000'})\n",
    "df_2001 = visual[visual['year']==2001][['month','Passengers']]\n",
    "df_2001 = df_2001.groupby('month').agg({\"Passengers\" : \"mean\"}).reset_index().rename(columns={'Passengers':'2001'})\n",
    "df_2002 = visual[visual['year']==2002][['month','Passengers']]\n",
    "df_2002 = df_2002.groupby('month').agg({\"Passengers\" : \"mean\"}).reset_index().rename(columns={'Passengers':'2002'})\n",
    "\n",
    "\n",
    "\n",
    "df_year = df_1995.merge(df_1996,on='month').merge(df_1997,on='month').merge(df_1998,on='month').merge(df_1999,on='month')\\\n",
    ".merge(df_2000,on='month').merge(df_2001,on='month').merge(df_2002,on='month')\n",
    "\n",
    "# top levels\n",
    "top_labels = ['1995', '1996', '1997', '1998', '1999','2000','2001','2002']\n",
    "\n",
    "colors = ['rgb(6, 19, 14)', 'rgb(18, 58, 43)',\n",
    "          'rgb(31, 97, 71)', 'rgb(43, 136, 100)',\n",
    "          'rgb(55, 174, 129)','rgb(81, 200, 154)',\n",
    "          'rgb(119, 212, 176)','rgb(158, 224, 199)']\n",
    "\n",
    "# X axis value \n",
    "df_year = df_year[['1995', '1996', '1997', '1998', '1999','2000','2001','2002']].replace(np.nan,0)\n",
    "x_data = df_year.values\n",
    "\n",
    "# y axis value (Month)\n",
    "df_1995['month'] =['Jan','Feb','Mar','Apr','May','Jun','Jul','Aug','Sep','Oct','Nov','Dec']\n",
    "y_data = df_1995['month'].tolist()\n",
    "\n",
    "fig = go.Figure()\n",
    "for i in range(0, len(x_data[0])):\n",
    "    for xd, yd in zip(x_data, y_data):\n",
    "        fig.add_trace(go.Bar(\n",
    "            x=[xd[i]], y=[yd],\n",
    "            orientation='h',\n",
    "            marker=dict(\n",
    "                color=colors[i],\n",
    "                line=dict(color='rgb(248, 248, 249)', width=1)\n",
    "            )\n",
    "        ))\n",
    "\n",
    "        \n",
    "fig.update_layout(title='Avg Passengers for each Year',\n",
    "    xaxis=dict(showgrid=False, \n",
    "               zeroline=False, domain=[0.15, 1]),\n",
    "    yaxis=dict(showgrid=False, showline=False,\n",
    "               showticklabels=False, zeroline=False),\n",
    "    barmode='stack', \n",
    "    template=\"plotly_white\",\n",
    "    margin=dict(l=0, r=50, t=100, b=10),\n",
    "    showlegend=False, \n",
    ")\n",
    "\n",
    "annotations = []\n",
    "for yd, xd in zip(y_data, x_data):\n",
    "    # labeling the y-axis\n",
    "    annotations.append(dict(xref='paper', yref='y',\n",
    "                            x=0.14, y=yd,\n",
    "                            xanchor='right',\n",
    "                            text=str(yd),\n",
    "                            font=dict(family='Arial', size=14,\n",
    "                                      color='rgb(67, 67, 67)'),\n",
    "                            showarrow=False, align='right'))\n",
    "    # labeling the first Likert scale (on the top)\n",
    "    if yd == y_data[-1]:\n",
    "        annotations.append(dict(xref='x', yref='paper',\n",
    "                                x=xd[0] / 2, y=1.1,\n",
    "                                text=top_labels[0],\n",
    "                                font=dict(family='Arial', size=14,\n",
    "                                          color='rgb(67, 67, 67)'),\n",
    "                          showarrow=False))\n",
    "    space = xd[0]\n",
    "    for i in range(1, len(xd)):\n",
    "            # labeling the Likert scale\n",
    "            if yd == y_data[-1]:\n",
    "                annotations.append(dict(xref='x', yref='paper',\n",
    "                                        x=space + (xd[i]/2), y=1.1,\n",
    "                                        text=top_labels[i],\n",
    "                                        font=dict(family='Arial', size=14,\n",
    "                                                  color='rgb(67, 67, 67)'),\n",
    "                                        showarrow=False))\n",
    "            space += xd[i]\n",
    "fig.update_layout(\n",
    "    annotations=annotations)\n",
    "fig.show()"
   ]
  },
  {
   "attachments": {
    "newplot-2.png": {
     "image/png": "[encoded data removed]"
    }
   },
   "cell_type": "markdown",
   "id": "9d9a4988",
   "metadata": {},
   "source": [
    "![newplot-2.png](attachment:newplot-2.png)"
   ]
  },
  {
   "cell_type": "code",
   "execution_count": null,
   "id": "9f542524",
   "metadata": {},
   "outputs": [],
   "source": [
    "# data\n",
    "import calendar\n",
    "df_m_sa = visual.groupby('month').agg({\"Passengers\" : \"mean\"}).reset_index()\n",
    "df_m_sa['Passengers'] = round(df_m_sa['Passengers'],2)\n",
    "df_m_sa['month_text'] = df_m_sa['month'].apply(lambda x: calendar.month_abbr[x])\n",
    "df_m_sa['text'] = df_m_sa['month_text'] + ' - ' + df_m_sa['Passengers'].astype(str) \n",
    "\n",
    "df_w_sa = visual.groupby('week').agg({\"Passengers\" : \"mean\"}).reset_index() \n",
    "df_q_sa = visual.groupby('quarter').agg({\"Passengers\" : \"mean\"}).reset_index() \n",
    "# chart color\n",
    "df_m_sa['color'] = '#496595'\n",
    "df_m_sa['color'][:-1] = '#c6ccd8'\n",
    "df_w_sa['color'] = '#c6ccd8'\n",
    "\n",
    "# chart\n",
    "fig = make_subplots(rows=2, cols=2, vertical_spacing=0.08,\n",
    "                    row_heights=[0.7, 0.3], \n",
    "                    specs=[[{\"type\": \"bar\"}, {\"type\": \"pie\"}],\n",
    "                           [{\"colspan\": 2}, None]],\n",
    "                    column_widths=[0.7, 0.3],\n",
    "                    subplot_titles=(\"Month wise Avg Passengers Analysis\", \"Quarter wise Avg Passengers Analysis\", \n",
    "                                    \"Week wise Avg Passengers Analysis\"))\n",
    "\n",
    "fig.add_trace(go.Bar(x=df_m_sa['Passengers'], y=df_m_sa['month'], marker=dict(color= df_m_sa['color']),\n",
    "                     text=df_m_sa['text'],textposition='auto',\n",
    "                     name='Month', orientation='h'), \n",
    "                     row=1, col=1)\n",
    "fig.add_trace(go.Pie(values=df_q_sa['Passengers'], labels=df_q_sa['quarter'], name='Quarter',\n",
    "                     marker=dict(colors=['#334668','#496595','#6D83AA','#91A2BF','#C8D0DF']), hole=0.7,\n",
    "                     hoverinfo='label+percent+value', textinfo='label+percent'), \n",
    "                     row=1, col=2)\n",
    "fig.add_trace(go.Scatter(x=df_w_sa['week'], y=df_w_sa['Passengers'], mode='lines+markers', fill='tozeroy', fillcolor='#c6ccd8',\n",
    "                     marker=dict(color= '#496595'), name='Week'), \n",
    "                     row=2, col=1)\n",
    "\n",
    "# styling\n",
    "fig.update_yaxes(visible=False, row=1, col=1)\n",
    "fig.update_xaxes(visible=False, row=1, col=1)\n",
    "fig.update_xaxes(tickmode = 'array', tickvals=df_w_sa.week, ticktext=[i for i in range(1,53)], \n",
    "                 row=2, col=1)\n",
    "fig.update_yaxes(visible=False, row=2, col=1)\n",
    "fig.update_layout(height=750, bargap=0.15,\n",
    "                  margin=dict(b=0,r=20,l=20), \n",
    "                  title_text=\"Average Passengers Analysis\",\n",
    "                  template=\"plotly_white\",\n",
    "                  title_font=dict(size=25, color='#8a8d93', family=\"Lato, sans-serif\"),\n",
    "                  font=dict(color='#8a8d93'),\n",
    "                  hoverlabel=dict(bgcolor=\"#f2f2f2\", font_size=13, font_family=\"Lato, sans-serif\"),\n",
    "                  showlegend=False)\n",
    "fig.show()"
   ]
  },
  {
   "attachments": {
    "newplot%20%281%29-3.png": {
     "image/png": "[encoded data removed]"
    }
   },
   "cell_type": "markdown",
   "id": "f82847d4",
   "metadata": {},
   "source": [
    "![newplot%20%281%29-3.png](attachment:newplot%20%281%29-3.png)"
   ]
  },
  {
   "cell_type": "code",
   "execution_count": null,
   "id": "9ad65e13",
   "metadata": {},
   "outputs": [],
   "source": [
    "# data\n",
    "df_dw_sa = visual.groupby('day_of_week').agg({\"Passengers\" : \"mean\"}).reset_index()\n",
    "df_dw_sa.Passengers = round(df_dw_sa.Passengers, 2)\n",
    "\n",
    "# chart\n",
    "fig = px.bar(df_dw_sa, y='day_of_week', x='Passengers', title='Avg Passengers vs Day of Week',\n",
    "             color_discrete_sequence=['#c6ccd8'], text='Passengers',\n",
    "             category_orders=dict(day_of_week=[\"Monday\",\"Tuesday\",\"Wednesday\",\"Thursday\", \"Friday\",\"Saturday\",\"Sunday\"]))\n",
    "fig.update_yaxes(showgrid=False, ticksuffix=' ', showline=False)\n",
    "fig.update_xaxes(visible=False)\n",
    "fig.update_layout(margin=dict(t=60, b=0, l=0, r=0), height=350,\n",
    "                  hovermode=\"y unified\", \n",
    "                  yaxis_title=\" \", template='plotly_white',\n",
    "                  title_font=dict(size=25, color='#8a8d93', family=\"Lato, sans-serif\"),\n",
    "                  font=dict(color='#8a8d93'),\n",
    "                  hoverlabel=dict(bgcolor=\"#c6ccd8\", font_size=13, font_family=\"Lato, sans-serif\"))"
   ]
  },
  {
   "attachments": {
    "newplot%20%282%29.png": {
     "image/png": "[encoded data removed]"
    }
   },
   "cell_type": "markdown",
   "id": "830310da",
   "metadata": {},
   "source": [
    "![newplot%20%282%29.png](attachment:newplot%20%282%29.png)"
   ]
  },
  {
   "cell_type": "code",
   "execution_count": null,
   "id": "4df86749",
   "metadata": {},
   "outputs": [],
   "source": [
    "decompose_ts_add = seasonal_decompose(df1.Passengers,period=12, model='additive')\n",
    "with plt.rc_context():\n",
    "    plt.rc(\"figure\", figsize=(14,10))\n",
    "    decompose_ts_add.plot()\n",
    "    plt.show()"
   ]
  },
  {
   "cell_type": "markdown",
   "id": "d9858e4e",
   "metadata": {},
   "source": [
    "#### Observation:-\n",
    "1. ***Observed*** - Actual data\n",
    "2. ***Trend*** - Increasing or decreasing trend.\n",
    "3. ***Seasonal*** - \n",
    "    - Varies from +50 to -50 with the mean 0. \n",
    "    - Each cycle represents each year trend.\n",
    "    - The value in the Y-axis has to be `added` to the Trend plot value to get the actual value of that year. E.g.:- For the year 1950 Nov, the seasonal value is +50 and the trend value is 100. Hence, teh actual value(passengers number) will (seasonal+Trend) value = 50+100 = 150.\n",
    "4. ***Residual*** - It is the noise pattern of the time series data for each year, which was not captured by the two components - Trend and Seasonality. Residual is the left over after decomposition of the two major components (Trend and Seasonality)"
   ]
  },
  {
   "cell_type": "markdown",
   "id": "dfb1fbd7",
   "metadata": {},
   "source": [
    "#### Multiplicative Seasonal Decomposition"
   ]
  },
  {
   "cell_type": "code",
   "execution_count": null,
   "id": "51226e6e",
   "metadata": {
    "scrolled": false
   },
   "outputs": [],
   "source": [
    "decompose_ts_add = seasonal_decompose(df1.Passengers,period=12, model='multiplicative')\n",
    "with plt.rc_context():\n",
    "    plt.rc(\"figure\", figsize=(14,10))\n",
    "    decompose_ts_add.plot()\n",
    "    plt.show()"
   ]
  },
  {
   "cell_type": "markdown",
   "id": "cac57b2e",
   "metadata": {},
   "source": [
    "#### Observation:-\n",
    "\n",
    "***Seasonal*** - \n",
    "1. Varies from 0.8 to 1.2 \n",
    "2. The value in the Y-axis has to be `multiplied` to the Trend plot value to get the actual value of that year. E.g.:- For the year 1950 Nov, the seasonal value is `1.2` and the trend value is `100`. Hence, the actual value(passengers number) will (seasonal X Trend) value = 1.2 X 100 = 120.\n"
   ]
  },
  {
   "cell_type": "markdown",
   "id": "3b8308f9",
   "metadata": {},
   "source": [
    "### Splitting Train and Test Data\n",
    "#### Leaving Test Data with 2 Years of Time Series"
   ]
  },
  {
   "cell_type": "code",
   "execution_count": null,
   "id": "d5b98b8a",
   "metadata": {},
   "outputs": [],
   "source": [
    "size = 72\n",
    "train_data = df1[:size]\n",
    "test_data = df1[size:]"
   ]
  },
  {
   "cell_type": "code",
   "execution_count": null,
   "id": "35dd769e",
   "metadata": {},
   "outputs": [],
   "source": [
    "print('Train:',train_data.index.min(),train_data.index.max(),'\\n',\n",
    "'Test:',test_data.index.min(),test_data.index.max())"
   ]
  },
  {
   "cell_type": "markdown",
   "id": "daaece9b",
   "metadata": {},
   "source": [
    "We are going to forecat for the last two years. 2001 and 2002.\n",
    "\n",
    "Last 24 records contain From 2001 to 2002 data."
   ]
  },
  {
   "cell_type": "code",
   "execution_count": null,
   "id": "c645838d",
   "metadata": {},
   "outputs": [],
   "source": [
    "train_data.plot(legend=True,label='TRAIN',color='blue')\n",
    "test_data.plot(legend=True,label='TEST', figsize=(12,6),color='red')"
   ]
  },
  {
   "cell_type": "markdown",
   "id": "2981e9c5",
   "metadata": {},
   "source": [
    "### Evaluation Metric MAPE"
   ]
  },
  {
   "cell_type": "code",
   "execution_count": null,
   "id": "b6442160",
   "metadata": {},
   "outputs": [],
   "source": [
    "def MAPE(pred,org):\n",
    "    temp = np.abs((pred-org)/org)*100\n",
    "    return np.mean(temp)"
   ]
  },
  {
   "cell_type": "markdown",
   "id": "0191cf0a",
   "metadata": {},
   "source": [
    "## Exponential Methods\n",
    "### Simple Exponential Method"
   ]
  },
  {
   "cell_type": "markdown",
   "id": "958c3c28",
   "metadata": {},
   "source": [
    "#### Using Forecast Attribute"
   ]
  },
  {
   "cell_type": "code",
   "execution_count": null,
   "id": "167d5234",
   "metadata": {},
   "outputs": [],
   "source": [
    "ses_model = SimpleExpSmoothing(train_data['Passengers']).fit(optimized=True)\n",
    "test_pred_ses = ses_model.forecast(24)\n",
    "train_pred_ses = ses_model.fittedvalues\n",
    "test_rmse_ses = sqrt(mean_squared_error(test_pred_ses,test_data.Passengers))\n",
    "train_rmse_ses = sqrt(mean_squared_error(train_pred_ses,train_data))\n",
    "mape_ses = MAPE(test_pred_ses,test_data.Passengers)\n",
    "print('Simple Exponential Method Evaluation',\"\\n\",\\\n",
    "      'Mean Absolute Percent Error = {}'.format(mape_ses),\"\\n\",\\\n",
    "'Train Root Mean Squared Error = {}'.format(train_rmse_ses),\"\\n\",\n",
    "'Test Root Mean Squared Error = {}'.format(test_rmse_ses))"
   ]
  },
  {
   "cell_type": "code",
   "execution_count": null,
   "id": "7242b788",
   "metadata": {},
   "outputs": [],
   "source": [
    "plt.figure(figsize=(14,6))\n",
    "plt.plot(train_data, label='Train')\n",
    "plt.plot(test_data, label='test')\n",
    "plt.plot(test_pred_ses, label='Simple exponential smoothing forcast')\n",
    "plt.legend(loc='best')\n",
    "plt.show()"
   ]
  },
  {
   "cell_type": "markdown",
   "id": "428389d8",
   "metadata": {},
   "source": [
    "#### Observation\n",
    "1. No seasonality captures.\n",
    "2. Most recent observation gets higher weightages than the older ones for forecasting."
   ]
  },
  {
   "cell_type": "markdown",
   "id": "15c4a711",
   "metadata": {},
   "source": [
    "---\n",
    "### Holt method (Double Exponential) "
   ]
  },
  {
   "cell_type": "markdown",
   "id": "fbdaaafb",
   "metadata": {},
   "source": [
    "##### Captures both Level and Trend ."
   ]
  },
  {
   "cell_type": "code",
   "execution_count": null,
   "id": "e7d1836e",
   "metadata": {},
   "outputs": [],
   "source": [
    "dexp_model  = Holt(train_data).fit(optimized=True)\n",
    "test_pred_dexp = dexp_model.forecast(24)\n",
    "train_pred_dexp = dexp_model.fittedvalues\n",
    "test_rmse_dexp = sqrt(mean_squared_error(test_pred_dexp,test_data.Passengers))\n",
    "train_rmse_dexp = sqrt(mean_squared_error(train_pred_dexp,train_data))\n",
    "mape_dexp = MAPE(test_pred_dexp,test_data.Passengers)\n",
    "print('Simple Exponential Method Evaluation',\"\\n\",\\\n",
    "      'Mean Absolute Percent Error = {}'.format(mape_dexp),\"\\n\",\\\n",
    "'Train Root Mean Squared Error = {}'.format(train_rmse_dexp),\"\\n\",\n",
    "'Test Root Mean Squared Error = {}'.format(test_rmse_dexp))"
   ]
  },
  {
   "cell_type": "code",
   "execution_count": null,
   "id": "79abb647",
   "metadata": {},
   "outputs": [],
   "source": [
    "plt.figure(figsize=(14,6))\n",
    "plt.plot(train_data, label='Train')\n",
    "plt.plot(test_data, label='test')\n",
    "plt.plot(test_pred_ses, label='Simple exponential smoothing forcast')\n",
    "plt.plot(test_pred_dexp, label='Double exponential smoothing forcast')\n",
    "plt.legend(loc='best')\n",
    "plt.show()"
   ]
  },
  {
   "cell_type": "markdown",
   "id": "a073d597",
   "metadata": {},
   "source": [
    "#### Observation\n",
    "1. We can see that we are able to capture the trend of the data.\n",
    "2. We were not able to capture the seasonality."
   ]
  },
  {
   "cell_type": "markdown",
   "id": "43f49249",
   "metadata": {},
   "source": [
    "### Holts winter exponential smoothing with additive seasonality and trend (Triple Exponential)"
   ]
  },
  {
   "cell_type": "markdown",
   "id": "2074f4da",
   "metadata": {},
   "source": [
    "##### Captures Level, Trend and Seasonality."
   ]
  },
  {
   "cell_type": "code",
   "execution_count": null,
   "id": "dac6c1a2",
   "metadata": {},
   "outputs": [],
   "source": [
    "texp_add_model  = ExponentialSmoothing(train_data,seasonal=\"add\",trend=\"add\",seasonal_periods=12).fit(optimized=True)\n",
    "test_pred_ad_texp = texp_add_model.forecast(24)\n",
    "train_pred_ad_texp = texp_add_model.fittedvalues\n",
    "test_rmse_ad_texp = sqrt(mean_squared_error(test_pred_ad_texp,test_data.Passengers))\n",
    "train_rmse_ad_texp = sqrt(mean_squared_error(train_pred_ad_texp,train_data))\n",
    "mape_ad_texp = MAPE(test_pred_ad_texp,test_data.Passengers)\n",
    "print('Triple Exponential with Additive Trend and Seosonality Method Evaluation',\"\\n\",\\\n",
    "      'Mean Absolute Percent Error = {}'.format(mape_ad_texp),\"\\n\",\\\n",
    "'Train Root Mean Squared Error = {}'.format(train_rmse_ad_texp),\"\\n\",\n",
    "'Test Root Mean Squared Error = {}'.format(test_rmse_ad_texp))"
   ]
  },
  {
   "cell_type": "code",
   "execution_count": null,
   "id": "7cb19f97",
   "metadata": {
    "scrolled": false
   },
   "outputs": [],
   "source": [
    "plt.figure(figsize=(14,6))\n",
    "plt.plot(train_data, label='Train')\n",
    "plt.plot(test_data, label='test')\n",
    "plt.plot(test_pred_ses, label='Simple exponential smoothing forcast')\n",
    "plt.plot(test_pred_dexp, label='Double exponential smoothing forcast')\n",
    "plt.plot(test_pred_ad_texp, label='Triple exponential smoothing forcast with Additive Trend and Sesonal')\n",
    "plt.legend(loc='best')\n",
    "plt.show()"
   ]
  },
  {
   "cell_type": "markdown",
   "id": "4241be8f",
   "metadata": {},
   "source": [
    "#### Observation\n",
    "1. It captures the trend, which we can see that the forecasted values are lower level than the test level.\n",
    "2. It also captures the seasonality.\n",
    "3. The peak of the forecasted value is lower than the actual."
   ]
  },
  {
   "cell_type": "markdown",
   "id": "ddd5fcfe",
   "metadata": {},
   "source": [
    "### Holts winter exponential smoothing with multiplicative seasonality and additive trend (Triple Exponential)"
   ]
  },
  {
   "cell_type": "code",
   "execution_count": null,
   "id": "10ea8a36",
   "metadata": {},
   "outputs": [],
   "source": [
    "texp_mul_ad_model  = ExponentialSmoothing(train_data,seasonal=\"mul\",trend=\"add\",seasonal_periods=12).fit(optimized=True)\n",
    "test_pred_mul_ad_texp = texp_mul_ad_model.forecast(24)\n",
    "train_pred_mul_ad_texp = texp_mul_ad_model.fittedvalues\n",
    "test_rmse_mul_ad_texp = sqrt(mean_squared_error(test_pred_mul_ad_texp,test_data.Passengers))\n",
    "train_rmse_mul_ad_texp = sqrt(mean_squared_error(train_pred_mul_ad_texp,train_data))\n",
    "mape_mul_ad_texp = MAPE(test_pred_mul_ad_texp,test_data.Passengers)\n",
    "print('Triple Exponential Method with Multiplicative Seasonality and Additive Trend',\"\\n\",\\\n",
    "      'Mean Absolute Percent Error = {}'.format(mape_mul_ad_texp),\"\\n\",\\\n",
    "'Train Root Mean Squared Error = {}'.format(train_rmse_mul_ad_texp),\"\\n\",\n",
    "'Test Root Mean Squared Error = {}'.format(test_rmse_mul_ad_texp))"
   ]
  },
  {
   "cell_type": "code",
   "execution_count": null,
   "id": "81383277",
   "metadata": {},
   "outputs": [],
   "source": [
    "plt.figure(figsize=(14,6))\n",
    "plt.plot(train_data, label='Train')\n",
    "plt.plot(test_data, label='test')\n",
    "plt.plot(test_pred_ses, label='Simple exponential smoothing forcast')\n",
    "plt.plot(test_pred_dexp, label='Double exponential smoothing forcast')\n",
    "plt.plot(test_pred_ad_texp, label='Triple exponential smoothing forcast with Additive Trend and Sesonal')\n",
    "plt.plot(test_pred_mul_ad_texp, label='Triple exponential smoothing forcast with Additive Trend and Multiplicative Sesonal')\n",
    "plt.legend(loc='best')\n",
    "plt.show()"
   ]
  },
  {
   "cell_type": "markdown",
   "id": "17d1172d",
   "metadata": {},
   "source": [
    "#### Observation\n",
    "1. We can see that the errors have reduced drastically once we are able to capture the level, trend and seasonality altogether."
   ]
  },
  {
   "cell_type": "markdown",
   "id": "341ada22",
   "metadata": {},
   "source": [
    "### Holts winter exponential smoothing with Additive seasonality and multiplicative trend (Triple Exponential)"
   ]
  },
  {
   "cell_type": "code",
   "execution_count": null,
   "id": "5327f4fd",
   "metadata": {},
   "outputs": [],
   "source": [
    "texp_ad_mul_model  = ExponentialSmoothing(train_data,seasonal=\"add\",trend=\"mul\",seasonal_periods=12).fit(smoothing_level=0.1, smoothing_slope=0.5)\n",
    "test_pred_ad_mul_texp  = texp_ad_mul_model.forecast(24)\n",
    "train_pred_ad_mul_texp  = texp_ad_mul_model.fittedvalues\n",
    "test_rmse_ad_mul_texp  = sqrt(mean_squared_error(test_pred_ad_mul_texp ,test_data.Passengers))\n",
    "train_rmse_ad_mul_texp  = sqrt(mean_squared_error(train_pred_ad_mul_texp ,train_data))\n",
    "mape_ad_mul_texp  = MAPE(test_pred_ad_mul_texp,test_data.Passengers)\n",
    "print('Triple Exponential Method with Additive Seasonality and Multiplicative Trend',\"\\n\",\\\n",
    "      'Mean Absolute Percent Error = {}'.format(mape_ad_mul_texp ),\"\\n\",\\\n",
    "'Train Root Mean Squared Error = {}'.format(train_rmse_ad_mul_texp ),\"\\n\",\n",
    "'Test Root Mean Squared Error = {}'.format(test_rmse_ad_mul_texp ))"
   ]
  },
  {
   "cell_type": "code",
   "execution_count": null,
   "id": "6ab5e58e",
   "metadata": {},
   "outputs": [],
   "source": [
    "plt.figure(figsize=(14,6))\n",
    "plt.plot(train_data, label='Train')\n",
    "plt.plot(test_data, label='test')\n",
    "plt.plot(test_pred_ses, label='Simple exponential smoothing forcast')\n",
    "plt.plot(test_pred_dexp, label='Double exponential smoothing forcast')\n",
    "plt.plot(test_pred_ad_texp, label='Triple exponential smoothing forcast with Additive Trend and Sesonal')\n",
    "plt.plot(test_pred_mul_ad_texp, label='Triple exponential smoothing forcast with Additive Trend and Multiplicative Sesonal')\n",
    "plt.plot(test_pred_ad_mul_texp, label='Triple Exponential Method with Additive Seasonality and Multiplicative Trend')\n",
    "plt.legend(loc='best')\n",
    "plt.show()"
   ]
  },
  {
   "cell_type": "markdown",
   "id": "83458c78",
   "metadata": {},
   "source": [
    "#### Observation\n",
    "1. It captures the trend, which we can see that the forecasted values are higher level than the test level.\n",
    "2. It also captures the seasonality.\n",
    "3. The peak of the forecasted value is higher than the actual."
   ]
  },
  {
   "cell_type": "markdown",
   "id": "790ff6e8",
   "metadata": {},
   "source": [
    "### Holts winter exponential smoothing with multiplicative seasonality and multiplicative trend (Triple Exponential)"
   ]
  },
  {
   "cell_type": "code",
   "execution_count": null,
   "id": "2db6e39a",
   "metadata": {},
   "outputs": [],
   "source": [
    "texp_mul_model  = ExponentialSmoothing(train_data,seasonal=\"mul\",trend=\"mul\",seasonal_periods=12).fit(optimized=True)\n",
    "test_pred_mul_texp  = texp_mul_model.forecast(24)\n",
    "train_pred_mul_texp  = texp_mul_model.fittedvalues\n",
    "test_rmse_mul_texp  = sqrt(mean_squared_error(test_pred_mul_texp ,test_data.Passengers))\n",
    "train_rmse_mul_texp  = sqrt(mean_squared_error(train_pred_mul_texp ,train_data))\n",
    "mape_mul_texp  = MAPE(test_pred_mul_texp,test_data.Passengers)\n",
    "print('Triple Exponential Method with multiplicative Trend and Seasonality',\"\\n\",\\\n",
    "      'Mean Absolute Percent Error = {}'.format(mape_mul_texp ),\"\\n\",\\\n",
    "'Train Root Mean Squared Error = {}'.format(train_rmse_mul_texp ),\"\\n\",\n",
    "'Test Root Mean Squared Error = {}'.format(test_rmse_mul_texp ))"
   ]
  },
  {
   "cell_type": "code",
   "execution_count": null,
   "id": "b4085b7c",
   "metadata": {},
   "outputs": [],
   "source": [
    "plt.figure(figsize=(14,6))\n",
    "plt.plot(train_data, label='Train')\n",
    "plt.plot(test_data, label='Test')\n",
    "plt.plot(test_pred_ses, label='Simple exponential smoothing forcast')\n",
    "plt.plot(test_pred_dexp, label='Double exponential smoothing forcast')\n",
    "plt.plot(test_pred_ad_texp, label='Triple exponential smoothing forcast with Additive Trend and Sesonal')\n",
    "plt.plot(test_pred_mul_ad_texp, label='Triple exponential smoothing forcast with Additive Trend and Multiplicative Sesonal')\n",
    "plt.plot(test_pred_ad_mul_texp, label='Triple Exponential Method with Additive Seasonality and Multiplicative Trend')\n",
    "plt.plot(test_pred_mul_texp, label='Triple Exponential Method with multiplicative Trend and Seasonality')\n",
    "plt.legend(loc='best')\n",
    "plt.show()"
   ]
  },
  {
   "cell_type": "code",
   "execution_count": null,
   "id": "f5a4b7a4",
   "metadata": {},
   "outputs": [],
   "source": [
    "#Comparing the results \n",
    "\n",
    "Evaluation = {\"Models\":pd.Series([\"Simple_Exp\",\"Double_Exp\",\"Triple_Exp_ad\",\"Triple_Exp_mul_ad\",\"Triple_Exp_ad_mul\"\\\n",
    "                                  ,\"Triple_Exp_mul\"]),\\\n",
    "        \"Train_RMSE\":pd.Series([train_rmse_ses,train_rmse_dexp,train_rmse_ad_texp,train_rmse_mul_ad_texp,train_rmse_ad_mul_texp,train_rmse_mul_texp]),\\\n",
    "        \"Test_MAPE(%)\":pd.Series([mape_ses,mape_dexp,mape_ad_texp,mape_mul_ad_texp,mape_ad_mul_texp,mape_mul_texp]),\\\n",
    "        \"Test_RMSE_Values\":pd.Series([test_rmse_ses,test_rmse_dexp,test_rmse_ad_texp,test_rmse_mul_ad_texp,test_rmse_ad_mul_texp,test_rmse_mul_texp])}\n",
    "table_evaluation=pd.DataFrame(Evaluation)\n",
    "table_evaluation.sort_values(['Test_MAPE(%)'], inplace=True, ignore_index=True)\n",
    "table_evaluation"
   ]
  },
  {
   "cell_type": "markdown",
   "id": "a719ea0e",
   "metadata": {},
   "source": [
    "### Visualizing Models Performance"
   ]
  },
  {
   "cell_type": "code",
   "execution_count": null,
   "id": "125cc833",
   "metadata": {},
   "outputs": [],
   "source": [
    "f, axe = plt.subplots(1,1, figsize=(18,6), dpi=500)\n",
    "sns.barplot(x='Test_RMSE_Values', y='Models', data=table_evaluation, ax = axe)\n",
    "axe.set_xlabel('Different_Models', size=16)\n",
    "axe.set_ylabel('RMSE', size=16)\n",
    "plt.yticks(fontsize=12,fontweight = 'bold')\n",
    "plt.xticks(fontsize=14)\n",
    "\n",
    "\n",
    "for i, v in enumerate(np.round(table_evaluation.Test_RMSE_Values.values,0)):\n",
    "    axe.text(v + 1, i + .20, str(v),\n",
    "            color = 'black', fontweight = 'bold', fontsize= 16)\n",
    "\n",
    "plt.show()"
   ]
  },
  {
   "cell_type": "code",
   "execution_count": null,
   "id": "32ae2634",
   "metadata": {
    "scrolled": true
   },
   "outputs": [],
   "source": [
    "f, axes = plt.subplots(2,1, figsize=(14,10))\n",
    "plt.yticks(fontsize=12,fontweight = 'bold')\n",
    "plt.xticks(fontsize=12)\n",
    "train_rmse = table_evaluation.sort_values(by=['Train_RMSE'], ascending=False)\n",
    "\n",
    "sns.barplot(x='Train_RMSE', y='Models', data = train_rmse, palette='Blues_d', ax = axes[0])\n",
    "axes[0].set_xlabel('Training RMSE', size=16)\n",
    "axes[0].set_ylabel('Different_Models')\n",
    "\n",
    "test_rmse = table_evaluation.sort_values(by=['Test_RMSE_Values'], ascending=False)\n",
    "\n",
    "sns.barplot(x='Test_RMSE_Values', y='Models', data = test_rmse, palette='Reds_d', ax = axes[1])\n",
    "axes[1].set_xlabel('Testing RMSE', size=16)\n",
    "axes[1].set_ylabel('Different_Models')\n",
    "\n",
    "plt.show()"
   ]
  },
  {
   "cell_type": "markdown",
   "id": "dd2e5d34",
   "metadata": {},
   "source": [
    "## ARIMA"
   ]
  },
  {
   "cell_type": "markdown",
   "id": "d2be8209",
   "metadata": {},
   "source": [
    "### Test of Stationarity"
   ]
  },
  {
   "cell_type": "markdown",
   "id": "84c777c0",
   "metadata": {},
   "source": [
    "##### As we have yearly data the window size for moving average is equal to 12"
   ]
  },
  {
   "cell_type": "code",
   "execution_count": null,
   "id": "8a821d7b",
   "metadata": {},
   "outputs": [],
   "source": [
    "def test_stationarity(timeseries):\n",
    "    \n",
    "    #Determine rolling statistics\n",
    "    movingAverage = timeseries.rolling(window=12).mean()\n",
    "    movingSTD = timeseries.rolling(window=12).std()\n",
    "    \n",
    "    #Plot rolling statistics\n",
    "    orig = plt.plot(timeseries, color='blue', label='Original')\n",
    "    mean = plt.plot(movingAverage, color='red', label='Rolling Mean')\n",
    "    plt.legend(loc='best')\n",
    "    plt.title('Rolling Mean')\n",
    "    plt.show(block=False)\n",
    "    \n",
    "    #Perform Dickey–Fuller test:\n",
    "    print('Results of Dickey Fuller Test:')\n",
    "    dftest = adfuller(timeseries['Passengers'], autolag='AIC')\n",
    "    dfoutput = pd.Series(dftest[0:4], index=['Test Statistic','p-value','#Lags Used','Number of Observations Used'])\n",
    "    for key,value in dftest[4].items():\n",
    "        dfoutput['Critical Value (%s)'%key] = value\n",
    "    print(dfoutput)"
   ]
  },
  {
   "cell_type": "code",
   "execution_count": null,
   "id": "1d804e5c",
   "metadata": {},
   "outputs": [],
   "source": [
    "sales= pd.DataFrame()\n",
    "sales['Passengers'] = df1[['Passengers']]\n",
    "test_stationarity(sales)"
   ]
  },
  {
   "cell_type": "code",
   "execution_count": null,
   "id": "b3ffc799",
   "metadata": {},
   "outputs": [],
   "source": [
    "from statsmodels.tsa.stattools import adfuller\n",
    "def adf_test(series):    \n",
    "    result = adfuller(series.dropna())  \n",
    "    labels = ['ADF test statistic','p-value','# lags used','# observations']\n",
    "    out = pd.Series(result[0:4],index=labels)\n",
    "    #for key,val in result[4].items():\n",
    "        #out[f'critical value ({key})']=val\n",
    "    if result[1] <= 0.05:\n",
    "        print(\"Reject the null hypothesis\")\n",
    "        print(\"Data is stationary\")\n",
    "    else:\n",
    "        print(\"Fail to reject the null hypothesis\")\n",
    "        print(\"Data is non-stationary\")"
   ]
  },
  {
   "cell_type": "code",
   "execution_count": null,
   "id": "977873b9",
   "metadata": {},
   "outputs": [],
   "source": [
    "adf_test(sales)"
   ]
  },
  {
   "cell_type": "markdown",
   "id": "62e49b56",
   "metadata": {},
   "source": [
    "### Feature Scaling (Transformations)"
   ]
  },
  {
   "cell_type": "markdown",
   "id": "ec3c9ec6",
   "metadata": {},
   "source": [
    "#### Square Root Transform"
   ]
  },
  {
   "cell_type": "code",
   "execution_count": null,
   "id": "cb231160",
   "metadata": {},
   "outputs": [],
   "source": [
    "square_root= pd.DataFrame()\n",
    "square_root = df1[['Passengers']]\n",
    "square_root['Passengers'] = np.sqrt(square_root.Passengers)\n",
    "\n",
    "# line chart\n",
    "fig=plt.figure(figsize=(12,10))\n",
    "plt.subplot(211)\n",
    "plt.plot(square_root['Passengers'])\n",
    "#Histogram\n",
    "plt.subplot(212)\n",
    "plt.hist(square_root['Passengers'])\n",
    "plt.show()"
   ]
  },
  {
   "cell_type": "code",
   "execution_count": null,
   "id": "613b201a",
   "metadata": {},
   "outputs": [],
   "source": [
    "test_stationarity(square_root)"
   ]
  },
  {
   "cell_type": "code",
   "execution_count": null,
   "id": "bd1cf67d",
   "metadata": {},
   "outputs": [],
   "source": [
    "adf_test(square_root)"
   ]
  },
  {
   "cell_type": "markdown",
   "id": "e9e27167",
   "metadata": {},
   "source": [
    "#### Log Transform"
   ]
  },
  {
   "cell_type": "code",
   "execution_count": null,
   "id": "11d99f23",
   "metadata": {},
   "outputs": [],
   "source": [
    "log = pd.DataFrame()\n",
    "log = df1[['Passengers']]\n",
    "log['Passengers'] = np.log(log.Passengers)\n",
    "\n",
    "# line chart\n",
    "fig=plt.figure(figsize=(12,10))\n",
    "plt.subplot(211)\n",
    "plt.plot(log['Passengers'])\n",
    "#Histogram\n",
    "plt.subplot(212)\n",
    "plt.hist(log['Passengers'])\n",
    "plt.show()"
   ]
  },
  {
   "cell_type": "code",
   "execution_count": null,
   "id": "c1633100",
   "metadata": {},
   "outputs": [],
   "source": [
    "test_stationarity(log)"
   ]
  },
  {
   "cell_type": "code",
   "execution_count": null,
   "id": "ddccf74d",
   "metadata": {},
   "outputs": [],
   "source": [
    "adf_test(log)"
   ]
  },
  {
   "cell_type": "markdown",
   "id": "1054a289",
   "metadata": {},
   "source": [
    "##### Hence, the Time series data is Non-Stationary"
   ]
  },
  {
   "cell_type": "markdown",
   "id": "036bfe71",
   "metadata": {},
   "source": [
    "### Converting Non-Stationary Time Series into Stationary"
   ]
  },
  {
   "cell_type": "code",
   "execution_count": null,
   "id": "61b72a57",
   "metadata": {},
   "outputs": [],
   "source": [
    "differencing = df1 - df1.shift(1)\n",
    "differencing.dropna(inplace=True)\n",
    "plt.figure(figsize=(12,4))\n",
    "plt.plot(differencing, label='After Differencing')\n",
    "plt.legend(loc='best')\n",
    "plt.show()"
   ]
  },
  {
   "cell_type": "code",
   "execution_count": null,
   "id": "dc7df417",
   "metadata": {},
   "outputs": [],
   "source": [
    "test_stationarity(differencing)"
   ]
  },
  {
   "cell_type": "code",
   "execution_count": null,
   "id": "8b7092c7",
   "metadata": {},
   "outputs": [],
   "source": [
    "adf_test(differencing)"
   ]
  },
  {
   "cell_type": "code",
   "execution_count": null,
   "id": "2eacf99d",
   "metadata": {},
   "outputs": [],
   "source": [
    "seasonal_differencing = df1 - df1.shift(12)\n",
    "seasonal_differencing.dropna(inplace=True)\n",
    "plt.figure(figsize=(12,4))\n",
    "plt.plot(seasonal_differencing, label='After Seasonal Differencing')\n",
    "plt.legend(loc='best')\n",
    "plt.show()"
   ]
  },
  {
   "cell_type": "code",
   "execution_count": null,
   "id": "20c33ef2",
   "metadata": {},
   "outputs": [],
   "source": [
    "test_stationarity(seasonal_differencing)"
   ]
  },
  {
   "cell_type": "code",
   "execution_count": null,
   "id": "94c3df37",
   "metadata": {},
   "outputs": [],
   "source": [
    "adf_test(seasonal_differencing)"
   ]
  },
  {
   "cell_type": "markdown",
   "id": "3831bb25",
   "metadata": {},
   "source": [
    "#### Transformation"
   ]
  },
  {
   "cell_type": "code",
   "execution_count": null,
   "id": "6e70dd5e",
   "metadata": {},
   "outputs": [],
   "source": [
    "log_diff = log - log.shift(1)\n",
    "log_diff.dropna(inplace=True)\n",
    "plt.figure(figsize=(12,4))\n",
    "plt.plot(log_diff, label='After Log Differencing')\n",
    "plt.legend(loc='best')\n",
    "plt.show()"
   ]
  },
  {
   "cell_type": "code",
   "execution_count": null,
   "id": "80e076bd",
   "metadata": {},
   "outputs": [],
   "source": [
    "test_stationarity(log_diff)"
   ]
  },
  {
   "cell_type": "code",
   "execution_count": null,
   "id": "6fded787",
   "metadata": {},
   "outputs": [],
   "source": [
    "adf_test(log_diff)"
   ]
  },
  {
   "cell_type": "markdown",
   "id": "eec89b1e",
   "metadata": {},
   "source": [
    "#### Box Cox Transformation"
   ]
  },
  {
   "cell_type": "code",
   "execution_count": null,
   "id": "f1d0fcc8",
   "metadata": {},
   "outputs": [],
   "source": [
    "data_boxcox = pd.DataFrame()\n",
    "data_boxcox['Passengers'] = pd.Series(boxcox(df1['Passengers'], lmbda=0), df1.index)\n",
    "display(data_boxcox.head())\n",
    "fig, axis = plt.subplots(2,figsize=(14,6),)\n",
    "axis[0].plot(data_boxcox)\n",
    "axis[0].set_title('After Box Cox Transformation')\n",
    "axis[1].plot(df1, label='original')\n",
    "axis[1].set_title('Original')\n",
    "plt.show()"
   ]
  },
  {
   "cell_type": "markdown",
   "id": "69a654b9",
   "metadata": {},
   "source": [
    "#### Observation\n",
    "1. We can see the variance became almost constant after the transformation. Both in the earlier and later years the variance is almost similar.\n",
    "2. But we can see that still the series has an upward trend. So, the mean is not constant yet. Hence, we need to do `Differencing` for making the mean constant."
   ]
  },
  {
   "cell_type": "code",
   "execution_count": null,
   "id": "a822b755",
   "metadata": {},
   "outputs": [],
   "source": [
    "test_stationarity(data_boxcox)"
   ]
  },
  {
   "cell_type": "code",
   "execution_count": null,
   "id": "aeed7bf0",
   "metadata": {},
   "outputs": [],
   "source": [
    "adf_test(data_boxcox)"
   ]
  },
  {
   "cell_type": "markdown",
   "id": "9fda9470",
   "metadata": {},
   "source": [
    "#### Differencing of the Box-Cox Transformation"
   ]
  },
  {
   "cell_type": "code",
   "execution_count": null,
   "id": "0ef5ee42",
   "metadata": {},
   "outputs": [],
   "source": [
    "# data_boxcox - data_boxcox.shift() :- Performs difference between the previous and current observations.\n",
    "#data_boxcox_diff = data_boxcox - data_boxcox.shift()\n",
    "data_boxcox_diff = data_boxcox - data_boxcox.shift()\n",
    "data_boxcox_diff.dropna(inplace=True)\n",
    "plt.figure(figsize=(12,4))\n",
    "plt.plot(data_boxcox_diff, label='After Box Cox Transformation and Differencing')\n",
    "plt.legend(loc='best')\n",
    "plt.show()"
   ]
  },
  {
   "cell_type": "markdown",
   "id": "5905772f",
   "metadata": {},
   "source": [
    "#### Observation\n",
    "1. We can see that there is no trend (upward or downward) after differencing on the Box Cox transformation. \n",
    "2. It is a horizontal trend.\n",
    "3. The mean became constant. The mean is zero.\n",
    "4. Also, the variance is almost constant.\n",
    "\n",
    "Lets test the Stationarity again."
   ]
  },
  {
   "cell_type": "code",
   "execution_count": null,
   "id": "25688655",
   "metadata": {},
   "outputs": [],
   "source": [
    "#check this log transfered data with function\n",
    "test_stationarity(data_boxcox_diff)"
   ]
  },
  {
   "cell_type": "code",
   "execution_count": null,
   "id": "1f3ad8d4",
   "metadata": {},
   "outputs": [],
   "source": [
    "adf_test(data_boxcox_diff)"
   ]
  },
  {
   "cell_type": "markdown",
   "id": "9563b5d2",
   "metadata": {},
   "source": [
    "##### Finally, Our Series is now stationary for AR Forecasting"
   ]
  },
  {
   "cell_type": "markdown",
   "id": "4e4ff2c2",
   "metadata": {},
   "source": [
    "#### ARIMA Hyperparameter Tuning"
   ]
  },
  {
   "cell_type": "code",
   "execution_count": null,
   "id": "5c1cf770",
   "metadata": {},
   "outputs": [],
   "source": [
    "# grid search ARIMA parameters for a time series\n",
    "\n",
    "# evaluate an ARIMA model for a given order (p,d,q) and return RMSE\n",
    "def evaluate_arima_model(X, arima_order):\n",
    "# prepare training dataset\n",
    "    X = X.astype('float32')\n",
    "    train_size = int(len(X) * 0.70)\n",
    "    train, test = X[0:train_size], X[train_size:]\n",
    "    history = [x for x in train]\n",
    "# make predictions\n",
    "    predictions = list()\n",
    "    for t in range(len(test)):\n",
    "        model = ARIMA(history, order=arima_order)\n",
    "        model_fit = model.fit()\n",
    "        yhat = model_fit.forecast()[0]\n",
    "        predictions.append(yhat)\n",
    "        history.append(test[t])\n",
    "# calculate out of sample error\n",
    "    rmse = sqrt(mean_squared_error(test, predictions))\n",
    "    return rmse"
   ]
  },
  {
   "cell_type": "code",
   "execution_count": null,
   "id": "47a893bc",
   "metadata": {},
   "outputs": [],
   "source": [
    "# evaluate combinations of p, d and q values for an ARIMA model\n",
    "def evaluate_models(dataset, p_values, d_values, q_values):\n",
    "    dataset = dataset.astype('float32')\n",
    "    best_score, best_cfg = float('inf'), None\n",
    "    for p in p_values:\n",
    "        for d in d_values:\n",
    "            for q in q_values:\n",
    "                order = (p,d,q)\n",
    "                try:\n",
    "                    rmse = evaluate_arima_model(dataset, order)\n",
    "                    if rmse < best_score:\n",
    "                        best_score, best_cfg = rmse, order\n",
    "                    #print('ARIMA%s RMSE=%.3f' % (order,rmse))\n",
    "                except Exception as e:\n",
    "                    print(e)\n",
    "                    continue\n",
    "    print('Best ARIMA%s RMSE=%.3f' % (best_cfg, best_score))"
   ]
  },
  {
   "cell_type": "code",
   "execution_count": null,
   "id": "88813751",
   "metadata": {
    "scrolled": true
   },
   "outputs": [],
   "source": [
    "# evaluate parameters\n",
    "p_values = range(0, 5)\n",
    "d_values = range(0, 5)\n",
    "q_values = range(0, 5)\n",
    "evaluate_models(data_boxcox_diff.Passengers, p_values, d_values, q_values)"
   ]
  },
  {
   "cell_type": "markdown",
   "id": "e51adbc2",
   "metadata": {},
   "source": [
    "#### Building The Time Series Forecasting with Optimal Value using ARIMA"
   ]
  },
  {
   "cell_type": "code",
   "execution_count": null,
   "id": "198477ad",
   "metadata": {},
   "outputs": [],
   "source": [
    "train_data_boxcox = data_boxcox[:size]\n",
    "test_data_boxcox = data_boxcox[size:]\n",
    "train_data_boxcox_diff = data_boxcox_diff[:size]\n",
    "test_data_boxcox_diff = data_boxcox_diff[size:]"
   ]
  },
  {
   "cell_type": "markdown",
   "id": "452c0fc5",
   "metadata": {},
   "source": [
    "##### Inverse transformation of the Box-Cox Differencing "
   ]
  },
  {
   "cell_type": "code",
   "execution_count": null,
   "id": "4dde79e5",
   "metadata": {},
   "outputs": [],
   "source": [
    "model = ARIMA(train_data_boxcox_diff, order=(4, 1, 4))\n",
    "model_fit = model.fit()\n",
    "y_hat_ar = data_boxcox_diff.copy()\n",
    "y_hat_ar['arima_forecast'] = model_fit.predict(data_boxcox_diff.index.min(), data_boxcox_diff.index.max())\n",
    "# We did differencing. So we need to revert it by adding the consecutive observations.\n",
    "# For that we are using cumsum() method\n",
    "y_hat_ar['arima_forecast'] = y_hat_ar['arima_forecast'].cumsum()\n",
    "# We removed the first observations after differencing as it was null. Hence, adding the first observation back.\n",
    "y_hat_ar['arima_forecast'] = y_hat_ar['arima_forecast'].add(data_boxcox.Passengers[0])\n",
    "# Now doing the reverse transformation \n",
    "# We have done Box Cox Log Log transformation with lambda = 0\n",
    "# Hence, we have to the exponential as it is the reverse of the log.\n",
    "y_hat_ar['arima_forecast'] = np.exp(y_hat_ar['arima_forecast'])"
   ]
  },
  {
   "cell_type": "code",
   "execution_count": null,
   "id": "55e053cc",
   "metadata": {},
   "outputs": [],
   "source": [
    "plt.figure(figsize=(12,4))\n",
    "plt.plot(train_data['Passengers'], label='Train')\n",
    "plt.plot(test_data, label='Test')\n",
    "plt.plot(y_hat_ar['arima_forecast'][test_data.index.min():], label='Auto regression forecast (AR)')\n",
    "plt.legend(loc='best')\n",
    "plt.show()"
   ]
  },
  {
   "cell_type": "markdown",
   "id": "3310a74c",
   "metadata": {},
   "source": [
    "#### Observation\n",
    "1. We can see that we have done moderately well.\n",
    "2. No Seasonality captured. Only Trend has been captured"
   ]
  },
  {
   "cell_type": "markdown",
   "id": "022eb509",
   "metadata": {},
   "source": [
    "### Model Evaluation"
   ]
  },
  {
   "cell_type": "markdown",
   "id": "dd0559c5",
   "metadata": {},
   "source": [
    "#### RMSE (Root Mean Squared Error)"
   ]
  },
  {
   "cell_type": "code",
   "execution_count": null,
   "id": "c2b5fcd0",
   "metadata": {},
   "outputs": [],
   "source": [
    "rmse_ARIMA = np.sqrt(mean_squared_error(test_data, y_hat_ar['arima_forecast'][test_data.index.min():])).round(2)\n",
    "rmse_ARIMA"
   ]
  },
  {
   "cell_type": "markdown",
   "id": "3e3b1f29",
   "metadata": {},
   "source": [
    "#### MAPE (Mean Absolute Percent Error)"
   ]
  },
  {
   "cell_type": "code",
   "execution_count": null,
   "id": "f290a3bc",
   "metadata": {},
   "outputs": [],
   "source": [
    "mape_arima = round(np.mean(np.abs((test_data.Passengers - y_hat_ar['ar_forecast'][test_data.index.min():])/test_data.Passengers)*100),2)\n",
    "mape_arima"
   ]
  },
  {
   "cell_type": "markdown",
   "id": "1ec85961",
   "metadata": {},
   "source": [
    "#### Observation\n",
    "1. We can see that AR model has done reasonably good job but not better than Holt's method.\n",
    "2. We souldn't compare it with Holt's method. Because Holt's method captures seasonality"
   ]
  },
  {
   "cell_type": "markdown",
   "id": "93392230",
   "metadata": {},
   "source": [
    "### Analysing the Residuals"
   ]
  },
  {
   "cell_type": "markdown",
   "id": "3855b862",
   "metadata": {},
   "source": [
    "##### The mean of the Residual should be zero or close to Zero"
   ]
  },
  {
   "cell_type": "code",
   "execution_count": null,
   "id": "391d4210",
   "metadata": {},
   "outputs": [],
   "source": [
    "model_residual = model_fit.resid\n",
    "model_residual.mean()"
   ]
  },
  {
   "cell_type": "markdown",
   "id": "6daebb78",
   "metadata": {},
   "source": [
    "#### Residuals must be stationary"
   ]
  },
  {
   "cell_type": "code",
   "execution_count": null,
   "id": "2afd1554",
   "metadata": {},
   "outputs": [],
   "source": [
    "adf_test(model_residual)"
   ]
  },
  {
   "cell_type": "markdown",
   "id": "d173d187",
   "metadata": {},
   "source": [
    "#### No autocorrelation between residuals"
   ]
  },
  {
   "cell_type": "code",
   "execution_count": null,
   "id": "1a7396bd",
   "metadata": {},
   "outputs": [],
   "source": [
    "plot_acf(model_residual, zero = False, lags = 40)\n",
    "plt.title(\"ACF Of Residuals for Returns\",size=24)\n",
    "plt.show()"
   ]
  },
  {
   "cell_type": "markdown",
   "id": "93e0d47e",
   "metadata": {},
   "source": [
    "#### Residuals must be random"
   ]
  },
  {
   "cell_type": "code",
   "execution_count": null,
   "id": "270e844d",
   "metadata": {},
   "outputs": [],
   "source": [
    "model_residual.plot(figsize=(20,5))\n",
    "plt.title(\"Residuals of Returns\", size=24)\n",
    "plt.show()"
   ]
  },
  {
   "cell_type": "markdown",
   "id": "243b6080",
   "metadata": {},
   "source": [
    "### Seasonal Auto Regressive Integrated Moving Average (SARIMA)\n",
    "ARIMA with Seasonal component added."
   ]
  },
  {
   "cell_type": "code",
   "execution_count": null,
   "id": "6913a76c",
   "metadata": {},
   "outputs": [],
   "source": [
    "from statsmodels.tsa.statespace.sarimax import SARIMAX\n",
    "# We are only passing the Box Cox because the ARIMAX will perform the differencing internally\n",
    "# seasonal_order P=1, Q=1, D=1 and m=12\n",
    "# m=12 . Because the seasonality is monthly."
   ]
  },
  {
   "cell_type": "code",
   "execution_count": null,
   "id": "f11c59d4",
   "metadata": {},
   "outputs": [],
   "source": [
    "model = SARIMAX(train_data_boxcox, order=(1,1,1), seasonal_order=(1,1,1,12))\n",
    "model_fit= model.fit()\n",
    "y_hat_sarima = data_boxcox_diff.copy()"
   ]
  },
  {
   "cell_type": "markdown",
   "id": "ebd343eb",
   "metadata": {},
   "source": [
    "#### Inverse Transformation of the Differencing Box-Cox Transformation"
   ]
  },
  {
   "cell_type": "code",
   "execution_count": null,
   "id": "7af5ed0f",
   "metadata": {},
   "outputs": [],
   "source": [
    "y_hat_sarima['sarima_forecast_boxcox'] = model_fit.predict(data_boxcox_diff.index.min(), data_boxcox_diff.index.max())\n",
    "y_hat_sarima['sarima_forecast'] = np.exp(y_hat_sarima['sarima_forecast_boxcox'])\n",
    "y_hat_sarima['sarima_forecast'] = np.exp(y_hat_sarima['sarima_forecast_boxcox'])"
   ]
  },
  {
   "cell_type": "code",
   "execution_count": null,
   "id": "5616d81d",
   "metadata": {},
   "outputs": [],
   "source": [
    "plt.figure(figsize=(14,6))\n",
    "plt.plot(train_data['Passengers'], label='Train')\n",
    "plt.plot(test_data, label='Test')\n",
    "plt.plot(y_hat_sarima['sarima_forecast'][test_data.index.min():], label='SARIMA Forecast')\n",
    "plt.legend(loc='best')\n",
    "plt.show()"
   ]
  },
  {
   "cell_type": "markdown",
   "id": "8bd3a0b2",
   "metadata": {},
   "source": [
    "##### We can see that we are able to capture the trend and seasonality both."
   ]
  },
  {
   "cell_type": "markdown",
   "id": "c536cb41",
   "metadata": {},
   "source": [
    "### Model Evaluation"
   ]
  },
  {
   "cell_type": "markdown",
   "id": "b44d2365",
   "metadata": {},
   "source": [
    "#### RMSE (Root Mean Squared Error)"
   ]
  },
  {
   "cell_type": "code",
   "execution_count": null,
   "id": "f46bb326",
   "metadata": {},
   "outputs": [],
   "source": [
    "rmse_SARIMA = np.sqrt(mean_squared_error(test_data, y_hat_sarima['sarima_forecast'][test_data.index.min():])).round(2)\n",
    "rmse_SARIMA"
   ]
  },
  {
   "cell_type": "markdown",
   "id": "96f9dc8b",
   "metadata": {},
   "source": [
    "#### MAPE (Mean Absolute Percent Error)"
   ]
  },
  {
   "cell_type": "code",
   "execution_count": null,
   "id": "f451848d",
   "metadata": {},
   "outputs": [],
   "source": [
    "mape_sarima = round(np.mean(np.abs((test_data.Passengers - y_hat_sarima['sarima_forecast'][test_data.index.min():])/test_data.Passengers)*100),2)\n",
    "mape_sarima"
   ]
  },
  {
   "cell_type": "markdown",
   "id": "05a82a6b",
   "metadata": {},
   "source": [
    "#### Observation:\n",
    "1. SARIMA method has done reasonably well as it captures seasonality.\n",
    "2. The performance is comparable with the other methods such as Holt's Winter additive/multiplicative, whcich also captures seasonality. |"
   ]
  },
  {
   "cell_type": "markdown",
   "id": "1ebb6750",
   "metadata": {},
   "source": [
    "### Analysing the Residuals"
   ]
  },
  {
   "cell_type": "markdown",
   "id": "75575063",
   "metadata": {},
   "source": [
    "##### The mean of the Residual should be zero or close to Zero"
   ]
  },
  {
   "cell_type": "code",
   "execution_count": null,
   "id": "72772a0d",
   "metadata": {},
   "outputs": [],
   "source": [
    "model_residual = model_fit.resid\n",
    "model_residual.mean()"
   ]
  },
  {
   "cell_type": "markdown",
   "id": "f87c5f2d",
   "metadata": {},
   "source": [
    "#### Residuals must be stationary"
   ]
  },
  {
   "cell_type": "code",
   "execution_count": null,
   "id": "574ce327",
   "metadata": {},
   "outputs": [],
   "source": [
    "adf_test(model_residual)"
   ]
  },
  {
   "cell_type": "markdown",
   "id": "b16099bb",
   "metadata": {},
   "source": [
    "#### No autocorrelation between residuals"
   ]
  },
  {
   "cell_type": "code",
   "execution_count": null,
   "id": "0b44b022",
   "metadata": {},
   "outputs": [],
   "source": [
    "plot_acf(model_residual, zero = False, lags = 40)\n",
    "plt.title(\"ACF Of Residuals for Returns\",size=24)\n",
    "plt.show()"
   ]
  },
  {
   "cell_type": "markdown",
   "id": "466e7a49",
   "metadata": {},
   "source": [
    "#### Residuals must be random"
   ]
  },
  {
   "cell_type": "code",
   "execution_count": null,
   "id": "4dd59b5c",
   "metadata": {},
   "outputs": [],
   "source": [
    "model_residual.plot(figsize=(20,5))\n",
    "plt.title(\"Residuals of Returns\", size=24)\n",
    "plt.show()"
   ]
  },
  {
   "cell_type": "markdown",
   "id": "ddec474c",
   "metadata": {},
   "source": [
    "#### Creating model with differente Transformation Technique"
   ]
  },
  {
   "cell_type": "code",
   "execution_count": null,
   "id": "3251401d",
   "metadata": {},
   "outputs": [],
   "source": [
    "#Compareing the results \n",
    "\n",
    "Evaluation = {\"Models\":pd.Series([\"Simple_Exponential\",\"Double_Exponential\",\"Triple_Exp_additive\",\"Triple_Exp_mul_ad\",\"Triple_Exp_ad_mul\"\\\n",
    "                                  ,\"Triple_Exp_multiplicative\",\"ARIMA\",\"SARIMA\"]),\\\n",
    "        \"MAPE(%)\":pd.Series([mape_ses,mape_dexp,mape_ad_texp,mape_mul_ad_texp,mape_ad_mul_texp,mape_mul_texp,mape_arima,mape_sarima]),\\\n",
    "        \"RMSE_Values\":pd.Series([test_rmse_ses,test_rmse_dexp,test_rmse_ad_texp,test_rmse_mul_ad_texp,test_rmse_ad_mul_texp,test_rmse_mul_texp,rmse_ARIMA,rmse_SARIMA])}\n",
    "table_evaluation=pd.DataFrame(Evaluation)\n",
    "table_evaluation.sort_values(['RMSE_Values'], inplace=True, ignore_index=True)\n",
    "table_evaluation"
   ]
  },
  {
   "cell_type": "code",
   "execution_count": null,
   "id": "f6fa31e6",
   "metadata": {},
   "outputs": [],
   "source": [
    "f, axe = plt.subplots(1,1, figsize=(18,6), dpi=500)\n",
    "sns.barplot(x='RMSE_Values', y='Models', data=table_evaluation, ax = axe)\n",
    "axe.set_xlabel('Different_Models', size=16)\n",
    "axe.set_ylabel('RMSE', size=16)\n",
    "plt.yticks(fontsize=12,fontweight = 'bold')\n",
    "plt.xticks(fontsize=14)\n",
    "\n",
    "\n",
    "for i, v in enumerate(np.round(table_evaluation.RMSE_Values.values,0)):\n",
    "    axe.text(v + 3, i + .25, str(v),\n",
    "            color = 'black', fontweight = 'bold', fontsize= 16)\n",
    "\n",
    "plt.show()"
   ]
  },
  {
   "cell_type": "markdown",
   "id": "2723e626",
   "metadata": {},
   "source": [
    "#### Observation:\n",
    "+ **The Sarima Model did very well as compared to other Models but Holts-Winter Method did slightly better** \n",
    "**Note:Sarima with Hyperparameter tuning may get better results**\n",
    "+ **Even in methods such as Triple Exponential Smoothing (Holts-Winters Method) taking Seasonality and Trend as Multiplicative gave the best restult in this case**"
   ]
  },
  {
   "cell_type": "markdown",
   "id": "6ec34d48",
   "metadata": {},
   "source": [
    "### Data Pre-processing for Model Driven Techniques"
   ]
  },
  {
   "cell_type": "markdown",
   "id": "92becfe3",
   "metadata": {},
   "source": [
    "#### Creating Dummy Variables of the Categorical Feature Month of Date Time feature "
   ]
  },
  {
   "cell_type": "code",
   "execution_count": null,
   "id": "66111968",
   "metadata": {},
   "outputs": [],
   "source": [
    "cocacola = df1.copy()\n",
    "cocacola.reset_index(inplace=True)\n",
    "cocacola['t'] = np.arange(1,len(cocacola)+1)\n",
    "cocacola['t_squared'] = np.square(cocacola.t)\n",
    "cocacola[\"month\"] = cocacola.Date.dt.strftime(\"%b\") # month extraction\n",
    "cocacola[\"year\"] = cocacola.Date.dt.strftime(\"%Y\") # year extraction\n",
    "months = pd.get_dummies(cocacola['month'])\n",
    "months = months[['Jan','Feb','Mar','Apr','May','Jun','Jul','Aug','Sep','Oct','Nov','Dec']]\n",
    "cocacola = pd.concat([cocacola,months],axis=1)\n",
    "cocacola['log_passengers'] = np.log(cocacola['Passengers'])\n",
    "cocacola"
   ]
  },
  {
   "cell_type": "markdown",
   "id": "80301aab",
   "metadata": {},
   "source": [
    "#### Splitting data into Train and Test "
   ]
  },
  {
   "cell_type": "code",
   "execution_count": null,
   "id": "1b5ee6f1",
   "metadata": {},
   "outputs": [],
   "source": [
    "train_data = cocacola.iloc[:size]\n",
    "test_data = cocacola.iloc[size:]"
   ]
  },
  {
   "cell_type": "code",
   "execution_count": null,
   "id": "a14855e3",
   "metadata": {},
   "outputs": [],
   "source": [
    "train_data"
   ]
  },
  {
   "cell_type": "code",
   "execution_count": null,
   "id": "434c57ea",
   "metadata": {},
   "outputs": [],
   "source": [
    "test_data"
   ]
  },
  {
   "cell_type": "markdown",
   "id": "6c96e284",
   "metadata": {},
   "source": [
    "### Building Ordinary Square Model (Linear Model)"
   ]
  },
  {
   "cell_type": "code",
   "execution_count": null,
   "id": "21f86339",
   "metadata": {},
   "outputs": [],
   "source": [
    "#Linear Model\n",
    "import statsmodels.formula.api as smf \n",
    "\n",
    "linear_model = smf.ols('Passengers~t',data=train_data).fit()\n",
    "pred_linear =  pd.Series(linear_model.predict(pd.DataFrame(test_data['t'])))\n",
    "rmse_linear = np.sqrt(np.mean((np.array(test_data['Passengers'])-np.array(pred_linear))**2))\n",
    "rmse_linear"
   ]
  },
  {
   "cell_type": "code",
   "execution_count": null,
   "id": "81d51e1a",
   "metadata": {},
   "outputs": [],
   "source": [
    "linear_model.summary()"
   ]
  },
  {
   "cell_type": "code",
   "execution_count": null,
   "id": "472110d1",
   "metadata": {},
   "outputs": [],
   "source": [
    "#Exponential\n",
    "\n",
    "Exp = smf.ols('log_passengers~t',data=train_data).fit()\n",
    "pred_Exp = pd.Series(Exp.predict(pd.DataFrame(test_data['t'])))\n",
    "rmse_Exp = np.sqrt(np.mean((np.array(test_data['Passengers'])-np.array(np.exp(pred_Exp)))**2))\n",
    "rmse_Exp"
   ]
  },
  {
   "cell_type": "code",
   "execution_count": null,
   "id": "3a9aef87",
   "metadata": {},
   "outputs": [],
   "source": [
    "Exp.summary()"
   ]
  },
  {
   "cell_type": "code",
   "execution_count": null,
   "id": "fe212c7f",
   "metadata": {},
   "outputs": [],
   "source": [
    "#Quadratic \n",
    "\n",
    "Quad = smf.ols('Passengers~t+t_squared',data=train_data).fit()\n",
    "pred_Quad = pd.Series(Quad.predict(test_data[[\"t\",\"t_squared\"]]))\n",
    "rmse_Quad = np.sqrt(np.mean((np.array(test_data['Passengers'])-np.array(pred_Quad))**2))\n",
    "rmse_Quad"
   ]
  },
  {
   "cell_type": "code",
   "execution_count": null,
   "id": "42c18239",
   "metadata": {},
   "outputs": [],
   "source": [
    "Quad.summary()"
   ]
  },
  {
   "cell_type": "code",
   "execution_count": null,
   "id": "01eecb13",
   "metadata": {},
   "outputs": [],
   "source": [
    "#Additive seasonality \n",
    "\n",
    "add_sea = smf.ols('Passengers~Jan+Feb+Mar+Apr+May+Jun+Jul+Aug+Sep+Oct+Nov+Dec',data=train_data).fit()\n",
    "pred_add_sea = pd.Series(add_sea.predict(test_data[['Jan','Feb','Mar','Apr','May','Jun','Jul','Aug','Sep','Oct','Nov','Dec']]))\n",
    "rmse_add_sea = np.sqrt(np.mean((np.array(test_data['Passengers'])-np.array(pred_add_sea))**2))\n",
    "rmse_add_sea"
   ]
  },
  {
   "cell_type": "code",
   "execution_count": null,
   "id": "a00845fd",
   "metadata": {},
   "outputs": [],
   "source": [
    "add_sea.summary()"
   ]
  },
  {
   "cell_type": "code",
   "execution_count": null,
   "id": "ea93c80f",
   "metadata": {},
   "outputs": [],
   "source": [
    "#Additive Seasonality Quadratic \n",
    "\n",
    "add_sea_Quad = smf.ols('Passengers~t+t_squared+Jan+Feb+Mar+Apr+May+Jun+Jul+Aug+Sep+Oct+Nov+Dec',data=train_data).fit()\n",
    "pred_add_sea_quad = pd.Series(add_sea_Quad.predict(test_data[['Jan','Feb','Mar','Apr','May','Jun','Jul','Aug','Sep','Oct','Nov','Dec','t','t_squared']]))\n",
    "rmse_add_sea_quad = np.sqrt(np.mean((np.array(test_data['Passengers'])-np.array(pred_add_sea_quad))**2))\n",
    "rmse_add_sea_quad"
   ]
  },
  {
   "cell_type": "code",
   "execution_count": null,
   "id": "1e268898",
   "metadata": {},
   "outputs": [],
   "source": [
    "add_sea_Quad.summary()"
   ]
  },
  {
   "cell_type": "code",
   "execution_count": null,
   "id": "7beb5fea",
   "metadata": {},
   "outputs": [],
   "source": [
    "##Multiplicative Seasonality\n",
    "\n",
    "Mul_sea = smf.ols('log_passengers~Jan+Feb+Mar+Apr+May+Jun+Jul+Aug+Sep+Oct+Nov+Dec',data = train_data).fit()\n",
    "pred_Mult_sea = pd.Series(Mul_sea.predict(test_data))\n",
    "rmse_Mult_sea = np.sqrt(np.mean((np.array(test_data['Passengers'])-np.array(np.exp(pred_Mult_sea)))**2))\n",
    "rmse_Mult_sea"
   ]
  },
  {
   "cell_type": "code",
   "execution_count": null,
   "id": "0c195948",
   "metadata": {},
   "outputs": [],
   "source": [
    "Mul_sea.summary()"
   ]
  },
  {
   "cell_type": "code",
   "execution_count": null,
   "id": "e683640f",
   "metadata": {},
   "outputs": [],
   "source": [
    "#Multiplicative Additive Seasonality \n",
    "\n",
    "Mul_Add_sea = smf.ols('log_passengers~t+Jan+Feb+Mar+Apr+May+Jun+Jul+Aug+Sep+Oct+Nov+Dec',data = train_data).fit()\n",
    "pred_Mult_add_sea = pd.Series(Mul_Add_sea.predict(test_data))\n",
    "rmse_Mult_add_sea = np.sqrt(np.mean((np.array(test_data['Passengers'])-np.array(np.exp(pred_Mult_add_sea)))**2))\n",
    "rmse_Mult_add_sea "
   ]
  },
  {
   "cell_type": "code",
   "execution_count": null,
   "id": "fb84feb4",
   "metadata": {},
   "outputs": [],
   "source": [
    "Mul_Add_sea.summary()"
   ]
  },
  {
   "cell_type": "code",
   "execution_count": null,
   "id": "7e4c0141",
   "metadata": {},
   "outputs": [],
   "source": [
    "np.exp(pred_Mult_add_sea)"
   ]
  },
  {
   "cell_type": "code",
   "execution_count": null,
   "id": "27fd914f",
   "metadata": {},
   "outputs": [],
   "source": [
    "plt.figure(figsize=(14,6))\n",
    "plt.plot(train_data['Passengers'], label='Train')\n",
    "plt.plot(test_data['Passengers'], label='Test')\n",
    "plt.plot(np.exp(pred_Mult_add_sea), label='OLS Forecast')\n",
    "plt.legend(loc='best')\n",
    "plt.show()"
   ]
  },
  {
   "cell_type": "code",
   "execution_count": null,
   "id": "f93edcac",
   "metadata": {},
   "outputs": [],
   "source": [
    "#Compare the results \n",
    "\n",
    "data = {\"Models\":pd.Series([\"rmse_linear\",\"rmse_Exp\",\"rmse_Quad\",\"rmse_add_sea\",\"rmse_add_sea_quad\",\"rmse_Mult_sea\",\"rmse_Mult_add_sea\"]),\"RMSE_Values\":pd.Series([rmse_linear,rmse_Exp,rmse_Quad,rmse_add_sea,rmse_add_sea_quad,rmse_Mult_sea,rmse_Mult_add_sea])}\n",
    "table_rmse=pd.DataFrame(data)\n",
    "table_rmse.sort_values(['RMSE_Values'], inplace=True, ignore_index=True)"
   ]
  },
  {
   "cell_type": "code",
   "execution_count": null,
   "id": "2b6fb088",
   "metadata": {},
   "outputs": [],
   "source": [
    "e = table_rmse.append(table_evaluation)\n",
    "e.drop('MAPE(%)', axis=1, inplace=True)\n",
    "e.sort_values(['RMSE_Values'], inplace=True, ignore_index=True)"
   ]
  },
  {
   "cell_type": "code",
   "execution_count": null,
   "id": "b4c4d628",
   "metadata": {},
   "outputs": [],
   "source": [
    "f, axe = plt.subplots(1,1, figsize=(12,10), dpi=500)\n",
    "sns.barplot(x='RMSE_Values', y='Models', data=e, ax = axe)\n",
    "axe.set_xlabel('Different_Models', size=16)\n",
    "axe.set_ylabel('RMSE', size=16)\n",
    "plt.yticks(fontsize=12,fontweight = 'bold')\n",
    "plt.xticks(fontsize=18)\n",
    "\n",
    "for i, v in enumerate(np.round(e.RMSE_Values.values,0)):\n",
    "    axe.text(v + 3, i + .25, str(v),\n",
    "            color = 'black', fontweight = 'bold', fontsize= 12)\n",
    "\n",
    "plt.show()"
   ]
  },
  {
   "cell_type": "markdown",
   "id": "dda30397",
   "metadata": {},
   "source": [
    "#### Conclusion:\n",
    "## <p style=\"color:black;font-size:18;\">Ordinary Least Sqaured with Multiplicative Additive Seasonality:</p><p style=\"color:black;font-size:14px;\">The best model we have got so far with the lowest RMSE and lowest MAPE.</p>    "
   ]
  }
 ],
 "metadata": {
  "kernelspec": {
   "display_name": "Python 3 (ipykernel)",
   "language": "python",
   "name": "python3"
  },
  "language_info": {
   "codemirror_mode": {
    "name": "ipython",
    "version": 3
   },
   "file_extension": ".py",
   "mimetype": "text/x-python",
   "name": "python",
   "nbconvert_exporter": "python",
   "pygments_lexer": "ipython3",
   "version": "3.11.3"
  }
 },
 "nbformat": 4,
 "nbformat_minor": 5
}
