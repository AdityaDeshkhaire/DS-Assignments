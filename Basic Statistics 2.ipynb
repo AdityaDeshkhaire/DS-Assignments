{
 "cells": [
  {
   "cell_type": "code",
   "execution_count": 9,
   "id": "205d8d60",
   "metadata": {},
   "outputs": [],
   "source": [
    "# SET-1"
   ]
  },
  {
   "cell_type": "markdown",
   "id": "4e40c514",
   "metadata": {},
   "source": [
    "# Q)Look at the data given below. Plot the data, find the outliers and find out  μ,σ,σ^2"
   ]
  },
  {
   "cell_type": "code",
   "execution_count": 1,
   "id": "7857ad6f",
   "metadata": {},
   "outputs": [],
   "source": [
    "import numpy as np\n",
    "import pandas as pd\n",
    "import seaborn as sns\n",
    "import matplotlib.pyplot as plt"
   ]
  },
  {
   "cell_type": "code",
   "execution_count": 4,
   "id": "43cc0ba1",
   "metadata": {},
   "outputs": [],
   "source": [
    "data = {'COMPANY': ['Allied Signal','Bankers Trust','General Mills','ITT Industries','J.P.Morgan & Co.','Lehman Brothers',\n",
    "                    'Marriott','MCI','Merrill Lynch','Microsoft','Morgan Stanley','Sun Microsystems','Travelers','US Airways',\n",
    "                    'Warner-Lambert'],\n",
    "        'Measure X': [24.23,25.53,25.41,24.14,29.62,28.25,25.81,24.39,40.26,32.95,91.36,25.99,39.42,26.71,35]\n",
    "       }\n",
    "df = pd.DataFrame(data)"
   ]
  },
  {
   "cell_type": "code",
   "execution_count": 5,
   "id": "cd03a56c",
   "metadata": {},
   "outputs": [
    {
     "data": {
      "text/html": [
       "<div>\n",
       "<style scoped>\n",
       "    .dataframe tbody tr th:only-of-type {\n",
       "        vertical-align: middle;\n",
       "    }\n",
       "\n",
       "    .dataframe tbody tr th {\n",
       "        vertical-align: top;\n",
       "    }\n",
       "\n",
       "    .dataframe thead th {\n",
       "        text-align: right;\n",
       "    }\n",
       "</style>\n",
       "<table border=\"1\" class=\"dataframe\">\n",
       "  <thead>\n",
       "    <tr style=\"text-align: right;\">\n",
       "      <th></th>\n",
       "      <th>COMPANY</th>\n",
       "      <th>Measure X</th>\n",
       "    </tr>\n",
       "  </thead>\n",
       "  <tbody>\n",
       "    <tr>\n",
       "      <th>0</th>\n",
       "      <td>Allied Signal</td>\n",
       "      <td>24.23</td>\n",
       "    </tr>\n",
       "    <tr>\n",
       "      <th>1</th>\n",
       "      <td>Bankers Trust</td>\n",
       "      <td>25.53</td>\n",
       "    </tr>\n",
       "    <tr>\n",
       "      <th>2</th>\n",
       "      <td>General Mills</td>\n",
       "      <td>25.41</td>\n",
       "    </tr>\n",
       "    <tr>\n",
       "      <th>3</th>\n",
       "      <td>ITT Industries</td>\n",
       "      <td>24.14</td>\n",
       "    </tr>\n",
       "    <tr>\n",
       "      <th>4</th>\n",
       "      <td>J.P.Morgan &amp; Co.</td>\n",
       "      <td>29.62</td>\n",
       "    </tr>\n",
       "    <tr>\n",
       "      <th>5</th>\n",
       "      <td>Lehman Brothers</td>\n",
       "      <td>28.25</td>\n",
       "    </tr>\n",
       "    <tr>\n",
       "      <th>6</th>\n",
       "      <td>Marriott</td>\n",
       "      <td>25.81</td>\n",
       "    </tr>\n",
       "    <tr>\n",
       "      <th>7</th>\n",
       "      <td>MCI</td>\n",
       "      <td>24.39</td>\n",
       "    </tr>\n",
       "    <tr>\n",
       "      <th>8</th>\n",
       "      <td>Merrill Lynch</td>\n",
       "      <td>40.26</td>\n",
       "    </tr>\n",
       "    <tr>\n",
       "      <th>9</th>\n",
       "      <td>Microsoft</td>\n",
       "      <td>32.95</td>\n",
       "    </tr>\n",
       "    <tr>\n",
       "      <th>10</th>\n",
       "      <td>Morgan Stanley</td>\n",
       "      <td>91.36</td>\n",
       "    </tr>\n",
       "    <tr>\n",
       "      <th>11</th>\n",
       "      <td>Sun Microsystems</td>\n",
       "      <td>25.99</td>\n",
       "    </tr>\n",
       "    <tr>\n",
       "      <th>12</th>\n",
       "      <td>Travelers</td>\n",
       "      <td>39.42</td>\n",
       "    </tr>\n",
       "    <tr>\n",
       "      <th>13</th>\n",
       "      <td>US Airways</td>\n",
       "      <td>26.71</td>\n",
       "    </tr>\n",
       "    <tr>\n",
       "      <th>14</th>\n",
       "      <td>Warner-Lambert</td>\n",
       "      <td>35.00</td>\n",
       "    </tr>\n",
       "  </tbody>\n",
       "</table>\n",
       "</div>"
      ],
      "text/plain": [
       "             COMPANY  Measure X\n",
       "0      Allied Signal      24.23\n",
       "1      Bankers Trust      25.53\n",
       "2      General Mills      25.41\n",
       "3     ITT Industries      24.14\n",
       "4   J.P.Morgan & Co.      29.62\n",
       "5    Lehman Brothers      28.25\n",
       "6           Marriott      25.81\n",
       "7                MCI      24.39\n",
       "8      Merrill Lynch      40.26\n",
       "9          Microsoft      32.95\n",
       "10    Morgan Stanley      91.36\n",
       "11  Sun Microsystems      25.99\n",
       "12         Travelers      39.42\n",
       "13        US Airways      26.71\n",
       "14    Warner-Lambert      35.00"
      ]
     },
     "execution_count": 5,
     "metadata": {},
     "output_type": "execute_result"
    }
   ],
   "source": [
    "df"
   ]
  },
  {
   "cell_type": "code",
   "execution_count": 6,
   "id": "4fe9d3bd",
   "metadata": {},
   "outputs": [
    {
     "name": "stdout",
     "output_type": "stream",
     "text": [
      "mean of Measure X is: 33.27133333333333\n"
     ]
    }
   ],
   "source": [
    "print(f\"mean of Measure X is: {df['Measure X'].mean()}\")"
   ]
  },
  {
   "cell_type": "code",
   "execution_count": 7,
   "id": "6d740032",
   "metadata": {},
   "outputs": [
    {
     "name": "stdout",
     "output_type": "stream",
     "text": [
      "variance of Measure X is: 287.1466123809524\n"
     ]
    }
   ],
   "source": [
    "print(f\"variance of Measure X is: {df['Measure X'].var()}\")"
   ]
  },
  {
   "cell_type": "code",
   "execution_count": 8,
   "id": "a426e3db",
   "metadata": {},
   "outputs": [
    {
     "name": "stdout",
     "output_type": "stream",
     "text": [
      "standard devition of Measure X is: 16.945400921222028\n"
     ]
    }
   ],
   "source": [
    "print(f\"standard devition of Measure X is: {df['Measure X'].std()}\")"
   ]
  },
  {
   "cell_type": "code",
   "execution_count": 10,
   "id": "a41e7207",
   "metadata": {},
   "outputs": [],
   "source": [
    "# SET - 2"
   ]
  },
  {
   "cell_type": "code",
   "execution_count": 11,
   "id": "10877a5c",
   "metadata": {},
   "outputs": [],
   "source": [
    "from scipy import stats\n",
    "import scipy.stats as stats\n",
    "import numpy as np"
   ]
  },
  {
   "cell_type": "markdown",
   "id": "2724b107",
   "metadata": {},
   "source": [
    "# Q1)"
   ]
  },
  {
   "cell_type": "code",
   "execution_count": 12,
   "id": "e7b36b81",
   "metadata": {},
   "outputs": [],
   "source": [
    "mean = 45\n",
    "sd = 8\n",
    "time = 50\n",
    "z = (time-mean)/sd"
   ]
  },
  {
   "cell_type": "code",
   "execution_count": 14,
   "id": "1a93b571",
   "metadata": {},
   "outputs": [
    {
     "data": {
      "text/plain": [
       "0.625"
      ]
     },
     "execution_count": 14,
     "metadata": {},
     "output_type": "execute_result"
    }
   ],
   "source": [
    "z"
   ]
  },
  {
   "cell_type": "code",
   "execution_count": 15,
   "id": "a6d55fc3",
   "metadata": {},
   "outputs": [],
   "source": [
    "p = 1 - stats.norm.cdf(z)"
   ]
  },
  {
   "cell_type": "code",
   "execution_count": 16,
   "id": "86780a06",
   "metadata": {},
   "outputs": [
    {
     "data": {
      "text/plain": [
       "0.26598552904870054"
      ]
     },
     "execution_count": 16,
     "metadata": {},
     "output_type": "execute_result"
    }
   ],
   "source": [
    "p"
   ]
  },
  {
   "cell_type": "markdown",
   "id": "d2a8c0b0",
   "metadata": {},
   "source": [
    "# Q2)"
   ]
  },
  {
   "cell_type": "code",
   "execution_count": 17,
   "id": "acd6a868",
   "metadata": {},
   "outputs": [],
   "source": [
    "mean = 38\n",
    "sd = 6"
   ]
  },
  {
   "cell_type": "code",
   "execution_count": 20,
   "id": "6cbdeeb5",
   "metadata": {},
   "outputs": [],
   "source": [
    "# for employee older than 44\n",
    "z1 = (44-38)/6"
   ]
  },
  {
   "cell_type": "code",
   "execution_count": 21,
   "id": "591e06f7",
   "metadata": {},
   "outputs": [
    {
     "data": {
      "text/plain": [
       "1.0"
      ]
     },
     "execution_count": 21,
     "metadata": {},
     "output_type": "execute_result"
    }
   ],
   "source": [
    "z1"
   ]
  },
  {
   "cell_type": "code",
   "execution_count": 22,
   "id": "8dc0bb7a",
   "metadata": {},
   "outputs": [],
   "source": [
    "# employee age between 38 and 44\n",
    "z2 = (38-38)/6"
   ]
  },
  {
   "cell_type": "code",
   "execution_count": 23,
   "id": "6d379210",
   "metadata": {},
   "outputs": [
    {
     "data": {
      "text/plain": [
       "0.0"
      ]
     },
     "execution_count": 23,
     "metadata": {},
     "output_type": "execute_result"
    }
   ],
   "source": [
    "z2"
   ]
  },
  {
   "cell_type": "code",
   "execution_count": 24,
   "id": "9dd2d881",
   "metadata": {},
   "outputs": [
    {
     "name": "stdout",
     "output_type": "stream",
     "text": [
      "probablility of employee between age 38 and 44 is 0.3413447460685429\n",
      "Probablility of employee older than age 44: 0.15865525393145707\n"
     ]
    }
   ],
   "source": [
    "print(f'probablility of employee between age 38 and 44 is {stats.norm.cdf(z1) - stats.norm.cdf(z2)}')\n",
    "print(f'Probablility of employee older than age 44: {1 - stats.norm.cdf(z1)}')"
   ]
  },
  {
   "cell_type": "markdown",
   "id": "4fbd1863",
   "metadata": {},
   "source": [
    "# Q4)"
   ]
  },
  {
   "cell_type": "code",
   "execution_count": 27,
   "id": "449fd9e8",
   "metadata": {},
   "outputs": [
    {
     "data": {
      "text/plain": [
       "2.5758293035489004"
      ]
     },
     "execution_count": 27,
     "metadata": {},
     "output_type": "execute_result"
    }
   ],
   "source": [
    "stats.norm.ppf(0.995)"
   ]
  },
  {
   "cell_type": "code",
   "execution_count": 28,
   "id": "ec0e325e",
   "metadata": {},
   "outputs": [
    {
     "name": "stdout",
     "output_type": "stream",
     "text": [
      "lower value 48.6 - upper value 151.4\n"
     ]
    }
   ],
   "source": [
    "m = 100\n",
    "s = 20\n",
    "#p = 0.99\n",
    "#z = 2.57\n",
    "upper_limit = 2.57\n",
    "lower_limit = -2.57\n",
    "print(f'lower value {m+lower_limit*s} - upper value {m+upper_limit*s}')"
   ]
  },
  {
   "cell_type": "code",
   "execution_count": 30,
   "id": "11b75272",
   "metadata": {},
   "outputs": [],
   "source": [
    "mean1 = 5\n",
    "sd1 = 32\n",
    "mean2 = 7\n",
    "sd2 = 42\n",
    "rs = 45\n",
    "\n",
    "#p = 0.95\n",
    "z = 1.96"
   ]
  },
  {
   "cell_type": "markdown",
   "id": "5cf2c4a0",
   "metadata": {},
   "source": [
    "# Q5)"
   ]
  },
  {
   "cell_type": "code",
   "execution_count": 32,
   "id": "8983913d",
   "metadata": {},
   "outputs": [
    {
     "name": "stdout",
     "output_type": "stream",
     "text": [
      "The 95% confidence interval for annual profit in Rupees is 99.01 Rs, 980.99 Rs\n"
     ]
    }
   ],
   "source": [
    "# profit 1\n",
    "mean_1 = 5\n",
    "std_1 = 3\n",
    "\n",
    "#profit 2\n",
    "mean_2 = 7\n",
    "std_2 = 4\n",
    "\n",
    "\n",
    "dollor_rate = 45\n",
    "\n",
    "# total\n",
    "mean_total_profit = mean_1 + mean_2\n",
    "std_dev_total_profit = (std_1**2 + std_2**2)**0.5\n",
    "\n",
    "# 2.5th and 97.5th percentiles\n",
    "lower_percentile = stats.norm.ppf(0.025, loc=mean_total_profit, scale=std_dev_total_profit)\n",
    "upper_percentile = stats.norm.ppf(0.975, loc=mean_total_profit, scale=std_dev_total_profit)\n",
    "\n",
    "# percentiles to Rupees\n",
    "lower_rupees = lower_percentile * dollor_rate\n",
    "upper_rupees = upper_percentile * dollor_rate\n",
    "\n",
    "print(f\"The 95% confidence interval for annual profit in Rupees is {lower_rupees:.2f} Rs, {upper_rupees:.2f} Rs\")\n"
   ]
  },
  {
   "cell_type": "code",
   "execution_count": 33,
   "id": "08fc62c8",
   "metadata": {},
   "outputs": [
    {
     "data": {
      "text/plain": [
       "169.90793393591858"
      ]
     },
     "execution_count": 33,
     "metadata": {},
     "output_type": "execute_result"
    }
   ],
   "source": [
    "# B\n",
    "# 5 percentile * dollor rate\n",
    "(stats.norm.ppf(0.05, loc=mean_total_profit, scale=std_dev_total_profit))* dollor_rate"
   ]
  },
  {
   "cell_type": "code",
   "execution_count": 34,
   "id": "a3ff4e49",
   "metadata": {},
   "outputs": [
    {
     "name": "stdout",
     "output_type": "stream",
     "text": [
      "Division 1 has a larger probability of making a loss.\n"
     ]
    }
   ],
   "source": [
    "# C\n",
    "\n",
    "loss_div1 = stats.norm.cdf(0, loc=mean_1, scale=std_1)\n",
    "loss_div2 = stats.norm.cdf(0, loc=mean_2, scale=std_2)\n",
    "\n",
    "if loss_div1 > loss_div2:\n",
    "    print(\"Division 1 has a larger probability of making a loss.\")\n",
    "elif loss_div2 > loss_div1:\n",
    "    print(\"Division 2 has a larger probability of making a loss.\")\n",
    "else:\n",
    "    print(\"Both divisions have the same probability of making a loss.\")"
   ]
  },
  {
   "cell_type": "code",
   "execution_count": null,
   "id": "af9a41b4",
   "metadata": {},
   "outputs": [],
   "source": []
  }
 ],
 "metadata": {
  "kernelspec": {
   "display_name": "Python 3 (ipykernel)",
   "language": "python",
   "name": "python3"
  },
  "language_info": {
   "codemirror_mode": {
    "name": "ipython",
    "version": 3
   },
   "file_extension": ".py",
   "mimetype": "text/x-python",
   "name": "python",
   "nbconvert_exporter": "python",
   "pygments_lexer": "ipython3",
   "version": "3.11.3"
  }
 },
 "nbformat": 4,
 "nbformat_minor": 5
}
